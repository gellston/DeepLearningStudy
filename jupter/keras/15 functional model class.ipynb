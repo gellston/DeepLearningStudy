{
 "cells": [
  {
   "cell_type": "markdown",
   "metadata": {},
   "source": [
    "함수형 모델을 클래스로 만드는 방법을 알아보겠습니다. 먼저 데이터를 정의합니다."
   ]
  },
  {
   "cell_type": "code",
   "execution_count": 1,
   "metadata": {},
   "outputs": [
    {
     "name": "stdout",
     "output_type": "stream",
     "text": [
      "x_train\n",
      "[[0 1]\n",
      " [2 3]\n",
      " [4 5]]\n",
      "y_train\n",
      "[[1]\n",
      " [5]\n",
      " [9]]\n",
      "x_test\n",
      "[[6 7]\n",
      " [8 9]]\n",
      "y_test\n",
      "[[13]\n",
      " [17]]\n"
     ]
    }
   ],
   "source": [
    "from tensorflow.keras import layers, models\n",
    "import numpy as np\n",
    "\n",
    "x_train = np.array( [[0,1], [2,3], [4,5]] )\n",
    "y_train = np.sum(x_train, axis=1, keepdims=True)\n",
    "print('x_train'); print(x_train)\n",
    "print('y_train'); print(y_train)\n",
    "x_test = np.array( [[6,7], [8,9]] )\n",
    "y_test = np.sum(x_test, axis=1, keepdims=True)\n",
    "print('x_test'); print(x_test)\n",
    "print('y_test'); print(y_test)"
   ]
  },
  {
   "cell_type": "markdown",
   "metadata": {},
   "source": [
    "다음과 같이 함수형 모델에서 상속받아 중간 층이 하나인 모델을 클래스로 만들 수 있습니다. \\_\\_init\\_\\_ 함수에서 층들을 다 연결한 다음에 부모클래스의 \\_\\_init\\_\\_ 에 입력과 출력을 넣어주어 모델을 만듭니다."
   ]
  },
  {
   "cell_type": "code",
   "execution_count": 2,
   "metadata": {},
   "outputs": [],
   "source": [
    "class FuncFNN( models.Model ):\n",
    "    def __init__(self, Ni, Nh, No):\n",
    "        x = layers.Input((Ni,))\n",
    "        h = layers.Dense(Nh)(x)\n",
    "        y = layers.Dense(No)(h)\n",
    "        super().__init__(x, y)\n",
    "        self.compile( 'sgd', 'mse' )"
   ]
  },
  {
   "cell_type": "markdown",
   "metadata": {},
   "source": [
    "다음과 같이 클래스로 정의한 모델을 사용합니다."
   ]
  },
  {
   "cell_type": "code",
   "execution_count": 3,
   "metadata": {},
   "outputs": [
    {
     "name": "stdout",
     "output_type": "stream",
     "text": [
      "Model: \"func_fnn\"\n",
      "_________________________________________________________________\n",
      "Layer (type)                 Output Shape              Param #   \n",
      "=================================================================\n",
      "input_1 (InputLayer)         [(None, 2)]               0         \n",
      "_________________________________________________________________\n",
      "dense (Dense)                (None, 3)                 9         \n",
      "_________________________________________________________________\n",
      "dense_1 (Dense)              (None, 1)                 4         \n",
      "=================================================================\n",
      "Total params: 13\n",
      "Trainable params: 13\n",
      "Non-trainable params: 0\n",
      "_________________________________________________________________\n",
      "y_pred\n",
      "[[13.]\n",
      " [17.]]\n",
      "y_test\n",
      "[[13]\n",
      " [17]]\n"
     ]
    }
   ],
   "source": [
    "model = FuncFNN( 2, 3, 1 )\n",
    "model.summary()\n",
    "model.fit( x_train, y_train, batch_size = 3, epochs = 1000, verbose = 0 )\n",
    "\n",
    "y_pred = model.predict(x_test)\n",
    "print('y_pred'); print(y_pred)\n",
    "print('y_test'); print(y_test)"
   ]
  }
 ],
 "metadata": {
  "kernelspec": {
   "display_name": "Python 3",
   "language": "python",
   "name": "python3"
  },
  "language_info": {
   "codemirror_mode": {
    "name": "ipython",
    "version": 3
   },
   "file_extension": ".py",
   "mimetype": "text/x-python",
   "name": "python",
   "nbconvert_exporter": "python",
   "pygments_lexer": "ipython3",
   "version": "3.7.3"
  }
 },
 "nbformat": 4,
 "nbformat_minor": 2
}
