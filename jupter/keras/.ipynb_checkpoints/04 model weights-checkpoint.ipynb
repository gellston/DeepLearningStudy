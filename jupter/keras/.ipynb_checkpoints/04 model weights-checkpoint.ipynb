{
 "cells": [
  {
   "cell_type": "markdown",
   "metadata": {},
   "source": [
    "모델의 웨이트를 얻어오는 방법을 공부하겠습니다. 그러기 위해서 일단 다음과 같이 모델을 만듭니다."
   ]
  },
  {
   "cell_type": "code",
   "execution_count": 1,
   "metadata": {
    "scrolled": true
   },
   "outputs": [
    {
     "name": "stdout",
     "output_type": "stream",
     "text": [
      "x_train\n",
      "[[0 1]\n",
      " [2 3]\n",
      " [4 5]]\n",
      "y_train\n",
      "[[1]\n",
      " [5]\n",
      " [9]]\n",
      "x_test\n",
      "[[6 7]\n",
      " [8 9]]\n",
      "y_test\n",
      "[[13]\n",
      " [17]]\n",
      "Model: \"model\"\n",
      "_________________________________________________________________\n",
      "Layer (type)                 Output Shape              Param #   \n",
      "=================================================================\n",
      "x (InputLayer)               [(None, 2)]               0         \n",
      "_________________________________________________________________\n",
      "d1 (Dense)                   (None, 3)                 9         \n",
      "_________________________________________________________________\n",
      "d2 (Dense)                   (None, 2)                 8         \n",
      "_________________________________________________________________\n",
      "d3 (Dense)                   (None, 1)                 3         \n",
      "=================================================================\n",
      "Total params: 20\n",
      "Trainable params: 20\n",
      "Non-trainable params: 0\n",
      "_________________________________________________________________\n"
     ]
    }
   ],
   "source": [
    "# 2 -> 3 -> 2 -> 1\n",
    "\n",
    "import tensorflow.keras as keras\n",
    "import numpy as np\n",
    "\n",
    "x_train = np.array( [[0,1], [2,3], [4,5]] )\n",
    "y_train = np.array( [ [x.sum()] for x in x_train ] )\n",
    "print(\"x_train\"); print(x_train)\n",
    "print(\"y_train\"); print(y_train)\n",
    "x_test = np.array( [[6,7], [8,9]] )\n",
    "y_test = np.array( [ [x.sum()] for x in x_test ] )\n",
    "print(\"x_test\"); print(x_test)\n",
    "print(\"y_test\"); print(y_test)\n",
    "\n",
    "d1 = keras.layers.Dense( 3, name='d1' )\n",
    "d2 = keras.layers.Dense( 2, name='d2' )\n",
    "d3 = keras.layers.Dense( 1, name='d3' )\n",
    "\n",
    "x = keras.layers.Input( shape=(2,), name='x' )\n",
    "d1_out = d1(x)\n",
    "d2_out = d2(d1_out)\n",
    "d3_out = d3(d2_out)\n",
    "\n",
    "model = keras.models.Model(x, d3_out)\n",
    "model.summary()"
   ]
  },
  {
   "cell_type": "markdown",
   "metadata": {},
   "source": [
    "레이어를 담은 변수를 바로 사용하거나 모델의 레이어를 이름을 지정하여 레이어를 가지고 오고 그 레이어의 웨이트를 프린트해보면 리스트 형식으로 나오는데 첫번째 원소는 입력에 곱해질 웨이트 들로 이루어진 넘파이 어레이고 두번째 원소는 웨이트를 곱한 후 더해줄 바이어스들로 이루어진 넘파이 어레이입니다. 웨이트의 행의 갯수는 입력의 원소의 갯수, 즉 전 레이어의 노드수이고 열의 갯수는 현재레이어의 출력의 갯수, 즉 현재 레이어의 노드 수 입니다."
   ]
  },
  {
   "cell_type": "code",
   "execution_count": 2,
   "metadata": {},
   "outputs": [
    {
     "name": "stdout",
     "output_type": "stream",
     "text": [
      "d1_weights\n",
      "[array([[-0.57954854,  0.03897893, -1.0474204 ],\n",
      "       [-1.0065249 ,  1.0086961 , -0.98431623]], dtype=float32), array([0., 0., 0.], dtype=float32)] \n",
      "\n",
      "d1_weights\n",
      "[array([[-0.57954854,  0.03897893, -1.0474204 ],\n",
      "       [-1.0065249 ,  1.0086961 , -0.98431623]], dtype=float32), array([0., 0., 0.], dtype=float32)] \n",
      "\n",
      "d1_weights\n",
      "[[-0.57954854  0.03897893 -1.0474204 ]\n",
      " [-1.0065249   1.0086961  -0.98431623]]\n",
      "[0. 0. 0.] \n",
      "\n"
     ]
    }
   ],
   "source": [
    "d1_weights = d1.get_weights()\n",
    "print('d1_weights'); print(d1_weights, '\\n')\n",
    "# 만약 순차모델로 만들었거나 레이어를 가리키는 변수 d1 을 정의하지 않았다면\n",
    "# 다음과 같이 이름으로 레이어를 가지고 올수 있다.\n",
    "d1 = model.get_layer('d1')\n",
    "d1_weights = d1.get_weights()\n",
    "print('d1_weights'); print(d1_weights, '\\n')\n",
    "\n",
    "print('d1_weights')\n",
    "print(d1_weights[0])\n",
    "print(d1_weights[1], '\\n')"
   ]
  },
  {
   "cell_type": "markdown",
   "metadata": {},
   "source": [
    "set_weights 로 웨이트를 지정해 넣어줄 수 있습니다. 첫번째 Dense 레이어에 특정 웨이트를 넣어준후 다시 프린트해보면 넣어준 값으로 웨이트들이 변해있는것을 알 수 있습니다."
   ]
  },
  {
   "cell_type": "code",
   "execution_count": 3,
   "metadata": {},
   "outputs": [
    {
     "name": "stdout",
     "output_type": "stream",
     "text": [
      "d1_weights\n",
      "[[1. 3. 5.]\n",
      " [2. 4. 6.]]\n",
      "[1. 2. 3.]\n"
     ]
    }
   ],
   "source": [
    "weights = [ np.array([[1,3,5],[2,4,6]], np.float32), np.array([1,2,3], np.float32) ]\n",
    "d1 = model.get_layer('d1')\n",
    "d1.set_weights(weights)\n",
    "d1_weights = d1.get_weights()\n",
    "print('d1_weights')\n",
    "print(d1_weights[0])\n",
    "print(d1_weights[1])"
   ]
  },
  {
   "cell_type": "markdown",
   "metadata": {},
   "source": [
    "두번째 덴스 레이어에도 웨이트를 넣어주고 확인해 봅니다."
   ]
  },
  {
   "cell_type": "code",
   "execution_count": 4,
   "metadata": {
    "scrolled": true
   },
   "outputs": [
    {
     "name": "stdout",
     "output_type": "stream",
     "text": [
      "d2_weights\n",
      "[[1. 4.]\n",
      " [2. 5.]\n",
      " [3. 6.]]\n",
      "[1. 2.]\n"
     ]
    }
   ],
   "source": [
    "weights = [ np.array([[1,4],[2,5],[3,6]], np.float32), np.array([1,2], np.float32) ]\n",
    "d2 = model.get_layer('d2')\n",
    "d2.set_weights(weights)\n",
    "d2_weights = d2.get_weights()\n",
    "print('d2_weights')\n",
    "print(d2_weights[0])\n",
    "print(d2_weights[1])"
   ]
  },
  {
   "cell_type": "markdown",
   "metadata": {},
   "source": [
    "세번째 덴스 레이어에도 웨이트를 넣어주고 확인해 봅니다."
   ]
  },
  {
   "cell_type": "code",
   "execution_count": 5,
   "metadata": {},
   "outputs": [
    {
     "name": "stdout",
     "output_type": "stream",
     "text": [
      "d3_weights\n",
      "[[1.]\n",
      " [2.]]\n",
      "[1.]\n"
     ]
    }
   ],
   "source": [
    "weights = [ np.array([[1],[2]], np.float32), np.array([1], np.float32) ]\n",
    "d3 = model.get_layer('d3')\n",
    "d3.set_weights(weights)\n",
    "d3_weights = d3.get_weights()\n",
    "print('d3_weights')\n",
    "print(d3_weights[0])\n",
    "print(d3_weights[1])"
   ]
  },
  {
   "cell_type": "markdown",
   "metadata": {},
   "source": [
    "레이어와 입력을 받으면 그 레이어의 출력을 계산하는 함수를 만들어 봅니다."
   ]
  },
  {
   "cell_type": "code",
   "execution_count": 6,
   "metadata": {},
   "outputs": [],
   "source": [
    "def compute_layer_output(layer, input_batch):\n",
    "    weights = layer.get_weights()\n",
    "    return np.matmul(input_batch, weights[0]) + weights[1]"
   ]
  },
  {
   "cell_type": "markdown",
   "metadata": {},
   "source": [
    "첫번째 덴스레이어의 중간 출력과 위의 함수로 계산한 결과가 같은지 확인합니다."
   ]
  },
  {
   "cell_type": "code",
   "execution_count": 7,
   "metadata": {
    "scrolled": true
   },
   "outputs": [
    {
     "name": "stdout",
     "output_type": "stream",
     "text": [
      "Model: \"model_1\"\n",
      "_________________________________________________________________\n",
      "Layer (type)                 Output Shape              Param #   \n",
      "=================================================================\n",
      "x (InputLayer)               [(None, 2)]               0         \n",
      "_________________________________________________________________\n",
      "d1 (Dense)                   (None, 3)                 9         \n",
      "=================================================================\n",
      "Total params: 9\n",
      "Trainable params: 9\n",
      "Non-trainable params: 0\n",
      "_________________________________________________________________\n",
      "d1_predict\n",
      "[[21. 48. 75.]\n",
      " [27. 62. 97.]]\n",
      "d1_out\n",
      "[[21. 48. 75.]\n",
      " [27. 62. 97.]]\n"
     ]
    }
   ],
   "source": [
    "model_d1 = keras.models.Model(model.input, d1.output)\n",
    "model_d1.summary()\n",
    "d1_predict = model_d1.predict( x_test )\n",
    "d1_out = compute_layer_output( d1, x_test )\n",
    "print('d1_predict'); print(d1_predict)\n",
    "print('d1_out'); print(d1_out)"
   ]
  },
  {
   "cell_type": "markdown",
   "metadata": {},
   "source": [
    "모델의 최종 출력과 우리가 만든 함수로 계산한 결과가 같은지 확인합니다."
   ]
  },
  {
   "cell_type": "code",
   "execution_count": 8,
   "metadata": {},
   "outputs": [
    {
     "name": "stdout",
     "output_type": "stream",
     "text": [
      "d3_out\n",
      "[[1896.]\n",
      " [2448.]]\n",
      "model predict\n",
      "[[1896.]\n",
      " [2448.]]\n"
     ]
    }
   ],
   "source": [
    "d1_out = compute_layer_output( d1, x_test )\n",
    "d2_out = compute_layer_output( d2, d1_out )\n",
    "d3_out = compute_layer_output( d3, d2_out )\n",
    "\n",
    "print('d3_out'); print(d3_out)\n",
    "print('model predict'); print(model.predict(x_test))"
   ]
  }
 ],
 "metadata": {
  "kernelspec": {
   "display_name": "Python 3",
   "language": "python",
   "name": "python3"
  },
  "language_info": {
   "codemirror_mode": {
    "name": "ipython",
    "version": 3
   },
   "file_extension": ".py",
   "mimetype": "text/x-python",
   "name": "python",
   "nbconvert_exporter": "python",
   "pygments_lexer": "ipython3",
   "version": "3.6.3"
  }
 },
 "nbformat": 4,
 "nbformat_minor": 2
}
