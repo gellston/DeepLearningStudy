{
 "cells": [
  {
   "cell_type": "markdown",
   "metadata": {},
   "source": [
    "순차방식에 비해 모델을 더 자유로이 만들 수 있는 functional API 를 사용해 모델을 만들어 보겠습니다. 순차 모델에 사용한 데이터와 같이 학습데이터와 테스트 데이터를 만듭니다. "
   ]
  },
  {
   "cell_type": "code",
   "execution_count": 1,
   "metadata": {},
   "outputs": [
    {
     "name": "stdout",
     "output_type": "stream",
     "text": [
      "x_train\n",
      "[[0]\n",
      " [1]]\n",
      "y_train\n",
      "[[1]\n",
      " [3]]\n",
      "x_test\n",
      "[[2]\n",
      " [3]]\n",
      "y_test\n",
      "[[5]\n",
      " [7]]\n"
     ]
    }
   ],
   "source": [
    "import tensorflow.keras as keras\n",
    "import numpy as np\n",
    "\n",
    "x_train = np.array( [[0],[1]] )\n",
    "y_train = x_train * 2 + 1\n",
    "print('x_train'); print(x_train)\n",
    "print('y_train'); print(y_train)\n",
    "x_test = np.array([[2],[3]])\n",
    "y_test = x_test * 2 + 1\n",
    "print('x_test'); print(x_test)\n",
    "print('y_test'); print(y_test)"
   ]
  },
  {
   "cell_type": "markdown",
   "metadata": {},
   "source": [
    "입력을 받는 입력 레이어를 만듭니다. 입력데이터의 모양을 알려주기위해서 shape 을 지정해줍니다. 이렇게 만들어진 입력 레이어의 자료형은 사실은 Tensor 라는것을 보여줍니다. "
   ]
  },
  {
   "cell_type": "code",
   "execution_count": 2,
   "metadata": {},
   "outputs": [
    {
     "name": "stdout",
     "output_type": "stream",
     "text": [
      "<class 'tensorflow.python.framework.ops.Tensor'>\n"
     ]
    }
   ],
   "source": [
    "x = keras.layers.Input( shape=(1,) )\n",
    "print( type(x) )"
   ]
  },
  {
   "cell_type": "markdown",
   "metadata": {},
   "source": [
    "전의 레이어의 유닛과 모두 연결되는 Dense 레이어를 만듭니다. 유닛의 갯수는 1입니다. 아직 전의 레이어, 즉 입력 레이어와 연결되지는 않았습니다. 자료형은 덴스 레이어인것을 알 수 있습니다. "
   ]
  },
  {
   "cell_type": "code",
   "execution_count": 3,
   "metadata": {},
   "outputs": [
    {
     "name": "stdout",
     "output_type": "stream",
     "text": [
      "<class 'tensorflow.python.keras.layers.core.Dense'>\n"
     ]
    }
   ],
   "source": [
    "d = keras.layers.Dense(1)\n",
    "print( type(d) )"
   ]
  },
  {
   "cell_type": "markdown",
   "metadata": {},
   "source": [
    "이렇게 만들어진 덴스레이어 클래스에는 \\_\\_call\\_\\_ 멤버함수가 정의가 되어있어 callable 객체입니다. 즉, 레이어객체를 함수처럼 사용할 수 있습니다. () 연산자를 사용하여 전 레이어의 출력 텐서와 연결을 합니다. 연결이 되며 텐서 객체를 반환합니다. 여기서 전 레이어의 출력 텐서는 Input 레이어인 x 입니다."
   ]
  },
  {
   "cell_type": "code",
   "execution_count": 4,
   "metadata": {},
   "outputs": [
    {
     "name": "stdout",
     "output_type": "stream",
     "text": [
      "<class 'tensorflow.python.keras.layers.core.Dense'>\n",
      "<class 'tensorflow.python.framework.ops.Tensor'>\n"
     ]
    }
   ],
   "source": [
    "y = d(x)\n",
    "print( type(d) )\n",
    "print( type(y) )"
   ]
  },
  {
   "cell_type": "markdown",
   "metadata": {},
   "source": [
    "입력과 출력을 지정하며 keras.models.Model 을 만듭니다. 첫번째 인자는 입력이고 두번째 인자는 출력입니다. "
   ]
  },
  {
   "cell_type": "code",
   "execution_count": 5,
   "metadata": {},
   "outputs": [],
   "source": [
    "model = keras.models.Model(x,y)"
   ]
  },
  {
   "cell_type": "markdown",
   "metadata": {},
   "source": [
    "summary 는 모델의 개요를 보여줍니다. 입력 층은 학습할 웨이트값들이 없으므로 Param 수가 0 인것을 확인할 수 있습니다. 여기서도 Output Shape 의 첫번째 차원은 한꺼번에 학습하는 샘플의 수를 나타내는 차원인데 현재로서는 알수 없으므로 None 으로 표시되었습니다."
   ]
  },
  {
   "cell_type": "code",
   "execution_count": 6,
   "metadata": {},
   "outputs": [
    {
     "name": "stdout",
     "output_type": "stream",
     "text": [
      "Model: \"model\"\n",
      "_________________________________________________________________\n",
      "Layer (type)                 Output Shape              Param #   \n",
      "=================================================================\n",
      "input_1 (InputLayer)         [(None, 1)]               0         \n",
      "_________________________________________________________________\n",
      "dense (Dense)                (None, 1)                 2         \n",
      "=================================================================\n",
      "Total params: 2\n",
      "Trainable params: 2\n",
      "Non-trainable params: 0\n",
      "_________________________________________________________________\n"
     ]
    }
   ],
   "source": [
    "model.summary()"
   ]
  },
  {
   "cell_type": "markdown",
   "metadata": {},
   "source": [
    "학습시키기 전에 predict 함수를 사용해 모델에 테스트 데이터를 입력시켜 예측값을 계산해보면 예측값과 원하는 목표값이 많이 다른것을 알 수 있습니다. 출력되는 데이터의 첫번째 차원은 동시에 계산한 샘플 수에 해당하는 차원입니다."
   ]
  },
  {
   "cell_type": "code",
   "execution_count": 7,
   "metadata": {},
   "outputs": [
    {
     "name": "stdout",
     "output_type": "stream",
     "text": [
      "y_predict\n",
      "[[1.737448]\n",
      " [2.606172]]\n",
      "y_test\n",
      "[[5]\n",
      " [7]]\n"
     ]
    }
   ],
   "source": [
    "y_predict = model.predict( x_test )\n",
    "print( 'y_predict' ); print( y_predict )\n",
    "print( 'y_test' ); print( y_test )"
   ]
  },
  {
   "cell_type": "markdown",
   "metadata": {},
   "source": [
    "순차모델과 같이 compile 을 해서 학습을 준비하고 fit 을 사용해 모델을 학습합니다."
   ]
  },
  {
   "cell_type": "code",
   "execution_count": 8,
   "metadata": {},
   "outputs": [],
   "source": [
    "model.compile( optimizer = 'SGD', loss = 'mse' )\n",
    "history = model.fit( x_train, y_train, batch_size=2, epochs=1000, verbose=0 )"
   ]
  },
  {
   "cell_type": "markdown",
   "metadata": {},
   "source": [
    "다시한번 테스트 데이터를 사용해 모델이 예측한 데이터와 실제 데이터를 비교해봅니다. 학습하기전보다 예측값과 실제 값이 비슷해져있는것을 확인할 수 있습니다."
   ]
  },
  {
   "cell_type": "code",
   "execution_count": 9,
   "metadata": {},
   "outputs": [
    {
     "name": "stdout",
     "output_type": "stream",
     "text": [
      "y_predict\n",
      "[[4.988823 ]\n",
      " [6.9807353]]\n",
      "y_test\n",
      "[[5]\n",
      " [7]]\n"
     ]
    }
   ],
   "source": [
    "y_predict = model.predict( x_test )\n",
    "print( 'y_predict' ); print( y_predict )\n",
    "print( 'y_test' ); print( y_test )"
   ]
  }
 ],
 "metadata": {
  "kernelspec": {
   "display_name": "Python 3",
   "language": "python",
   "name": "python3"
  },
  "language_info": {
   "codemirror_mode": {
    "name": "ipython",
    "version": 3
   },
   "file_extension": ".py",
   "mimetype": "text/x-python",
   "name": "python",
   "nbconvert_exporter": "python",
   "pygments_lexer": "ipython3",
   "version": "3.7.3"
  }
 },
 "nbformat": 4,
 "nbformat_minor": 2
}
