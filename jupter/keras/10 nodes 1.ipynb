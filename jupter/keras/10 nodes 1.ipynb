{
 "cells": [
  {
   "cell_type": "markdown",
   "metadata": {},
   "source": [
    "inbound_node 하나에서 여러 output_tensor 가 나오는 구조를 알아봅시다."
   ]
  },
  {
   "cell_type": "code",
   "execution_count": 1,
   "metadata": {
    "scrolled": true
   },
   "outputs": [
    {
     "name": "stdout",
     "output_type": "stream",
     "text": [
      "h._inbound_nodes\n",
      " []\n",
      "h._outbound_nodes\n",
      " []\n"
     ]
    }
   ],
   "source": [
    "from tensorflow.keras import layers, models\n",
    "\n",
    "x = layers.Input((1,), name='x')\n",
    "y = layers.Input((1,), name='y')\n",
    "h = layers.Lambda(lambda x: [x+1, x-1], name='h')\n",
    "a = layers.Dense(1, name='a')\n",
    "b = layers.Dense(1, name='b')\n",
    "\n",
    "print('h._inbound_nodes\\n', h._inbound_nodes)\n",
    "print('h._outbound_nodes\\n', h._outbound_nodes)"
   ]
  },
  {
   "cell_type": "code",
   "execution_count": 2,
   "metadata": {},
   "outputs": [],
   "source": [
    "h0x, h1x = h(x)\n",
    "h0y, h1y = h(y)"
   ]
  },
  {
   "cell_type": "markdown",
   "metadata": {},
   "source": [
    "inbound node 하나에 두개의 ouput tensor 가 생긴것을 확인할 수 있습니다."
   ]
  },
  {
   "cell_type": "code",
   "execution_count": 3,
   "metadata": {},
   "outputs": [
    {
     "name": "stdout",
     "output_type": "stream",
     "text": [
      "h._inbound_nodes\n",
      " [<tensorflow.python.keras.engine.node.Node object at 0x0000021DDA20B0F0>, <tensorflow.python.keras.engine.node.Node object at 0x0000021DDA20B198>] \n",
      "\n",
      "h._inbound_nodes[0].input_tensors\n",
      " Tensor(\"x:0\", shape=(None, 1), dtype=float32) \n",
      "\n",
      "h._inbound_nodes[0].output_tensors\n",
      " [<tf.Tensor 'h/Identity:0' shape=(None, 1) dtype=float32>, <tf.Tensor 'h/Identity_1:0' shape=(None, 1) dtype=float32>] \n",
      "\n",
      "h._inbound_nodes[1].input_tensors\n",
      " Tensor(\"y:0\", shape=(None, 1), dtype=float32) \n",
      "\n",
      "h._inbound_nodes[1].output_tensors\n",
      " [<tf.Tensor 'h_1/Identity:0' shape=(None, 1) dtype=float32>, <tf.Tensor 'h_1/Identity_1:0' shape=(None, 1) dtype=float32>]\n"
     ]
    }
   ],
   "source": [
    "print('h._inbound_nodes\\n', h._inbound_nodes, '\\n')\n",
    "print('h._inbound_nodes[0].input_tensors\\n', h._inbound_nodes[0].input_tensors, '\\n')\n",
    "print('h._inbound_nodes[0].output_tensors\\n', h._inbound_nodes[0].output_tensors, '\\n')\n",
    "print('h._inbound_nodes[1].input_tensors\\n', h._inbound_nodes[1].input_tensors, '\\n')\n",
    "print('h._inbound_nodes[1].output_tensors\\n', h._inbound_nodes[1].output_tensors)"
   ]
  },
  {
   "cell_type": "code",
   "execution_count": 4,
   "metadata": {},
   "outputs": [],
   "source": [
    "ah0x = a(h0x)\n",
    "bh1x = b(h1x)\n",
    "ah0y = a(h0y)\n",
    "bh1y = b(h1y)"
   ]
  },
  {
   "cell_type": "code",
   "execution_count": 5,
   "metadata": {},
   "outputs": [
    {
     "name": "stdout",
     "output_type": "stream",
     "text": [
      "h._outbound_nodes\n",
      " [<tensorflow.python.keras.engine.node.Node object at 0x0000021DEE811C50>, <tensorflow.python.keras.engine.node.Node object at 0x0000021DEE7B9B00>, <tensorflow.python.keras.engine.node.Node object at 0x0000021DEE824278>, <tensorflow.python.keras.engine.node.Node object at 0x0000021DEE824F60>] \n",
      "\n",
      "h._outbound_nodes[0].input_tensors\n",
      " Tensor(\"h/Identity:0\", shape=(None, 1), dtype=float32) \n",
      "\n",
      "h._outbound_nodes[0].output_tensors\n",
      " Tensor(\"a/Identity:0\", shape=(None, 1), dtype=float32) \n",
      "\n",
      "h._outbound_nodes[1].input_tensors\n",
      " Tensor(\"h/Identity_1:0\", shape=(None, 1), dtype=float32) \n",
      "\n",
      "h._outbound_nodes[1].output_tensors\n",
      " Tensor(\"b/Identity:0\", shape=(None, 1), dtype=float32) \n",
      "\n",
      "h._outbound_nodes[2].input_tensors\n",
      " Tensor(\"h_1/Identity:0\", shape=(None, 1), dtype=float32) \n",
      "\n",
      "h._outbound_nodes[2].output_tensors\n",
      " Tensor(\"a_1/Identity:0\", shape=(None, 1), dtype=float32) \n",
      "\n",
      "h._outbound_nodes[3].input_tensors\n",
      " Tensor(\"h_1/Identity_1:0\", shape=(None, 1), dtype=float32) \n",
      "\n",
      "h._outbound_nodes[3].output_tensors\n",
      " Tensor(\"b_1/Identity:0\", shape=(None, 1), dtype=float32)\n"
     ]
    }
   ],
   "source": [
    "print('h._outbound_nodes\\n', h._outbound_nodes, '\\n')\n",
    "print('h._outbound_nodes[0].input_tensors\\n', h._outbound_nodes[0].input_tensors, '\\n')\n",
    "print('h._outbound_nodes[0].output_tensors\\n', h._outbound_nodes[0].output_tensors, '\\n')\n",
    "print('h._outbound_nodes[1].input_tensors\\n', h._outbound_nodes[1].input_tensors, '\\n')\n",
    "print('h._outbound_nodes[1].output_tensors\\n', h._outbound_nodes[1].output_tensors, '\\n')\n",
    "print('h._outbound_nodes[2].input_tensors\\n', h._outbound_nodes[2].input_tensors, '\\n')\n",
    "print('h._outbound_nodes[2].output_tensors\\n', h._outbound_nodes[2].output_tensors, '\\n')\n",
    "print('h._outbound_nodes[3].input_tensors\\n', h._outbound_nodes[3].input_tensors, '\\n')\n",
    "print('h._outbound_nodes[3].output_tensors\\n', h._outbound_nodes[3].output_tensors)"
   ]
  },
  {
   "cell_type": "code",
   "execution_count": 6,
   "metadata": {},
   "outputs": [
    {
     "name": "stdout",
     "output_type": "stream",
     "text": [
      "Model: \"model\"\n",
      "__________________________________________________________________________________________________\n",
      "Layer (type)                    Output Shape         Param #     Connected to                     \n",
      "==================================================================================================\n",
      "x (InputLayer)                  [(None, 1)]          0                                            \n",
      "__________________________________________________________________________________________________\n",
      "y (InputLayer)                  [(None, 1)]          0                                            \n",
      "__________________________________________________________________________________________________\n",
      "h (Lambda)                      [(None, 1), (None, 1 0           x[0][0]                          \n",
      "                                                                 y[0][0]                          \n",
      "__________________________________________________________________________________________________\n",
      "a (Dense)                       (None, 1)            2           h[0][0]                          \n",
      "                                                                 h[1][0]                          \n",
      "__________________________________________________________________________________________________\n",
      "b (Dense)                       (None, 1)            2           h[0][1]                          \n",
      "                                                                 h[1][1]                          \n",
      "==================================================================================================\n",
      "Total params: 4\n",
      "Trainable params: 4\n",
      "Non-trainable params: 0\n",
      "__________________________________________________________________________________________________\n"
     ]
    }
   ],
   "source": [
    "model = models.Model([x, y], [ah0x, bh1x, ah0y, bh1y])\n",
    "model.summary()"
   ]
  }
 ],
 "metadata": {
  "kernelspec": {
   "display_name": "Python 3",
   "language": "python",
   "name": "python3"
  },
  "language_info": {
   "codemirror_mode": {
    "name": "ipython",
    "version": 3
   },
   "file_extension": ".py",
   "mimetype": "text/x-python",
   "name": "python",
   "nbconvert_exporter": "python",
   "pygments_lexer": "ipython3",
   "version": "3.7.3"
  }
 },
 "nbformat": 4,
 "nbformat_minor": 2
}
