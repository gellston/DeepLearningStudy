{
 "cells": [
  {
   "cell_type": "markdown",
   "metadata": {},
   "source": [
    "입력->중간층->출력 의 노드 갯수가 1 -> 2 -> 1 인 모델을 함수형 API 를 사용해서 만듭니다."
   ]
  },
  {
   "cell_type": "code",
   "execution_count": 1,
   "metadata": {},
   "outputs": [
    {
     "name": "stdout",
     "output_type": "stream",
     "text": [
      "x_train\n",
      "[[0]\n",
      " [1]]\n",
      "y_train\n",
      "[[1]\n",
      " [3]]\n",
      "x_test\n",
      "[[2]\n",
      " [3]]\n",
      "y_test\n",
      "[[5]\n",
      " [7]]\n",
      "Model: \"model\"\n",
      "_________________________________________________________________\n",
      "Layer (type)                 Output Shape              Param #   \n",
      "=================================================================\n",
      "input_1 (InputLayer)         [(None, 1)]               0         \n",
      "_________________________________________________________________\n",
      "dense (Dense)                (None, 2)                 4         \n",
      "_________________________________________________________________\n",
      "dense_1 (Dense)              (None, 1)                 3         \n",
      "=================================================================\n",
      "Total params: 7\n",
      "Trainable params: 7\n",
      "Non-trainable params: 0\n",
      "_________________________________________________________________\n",
      "y_predict\n",
      "[[4.9999914]\n",
      " [6.9999857]]\n",
      "y_test\n",
      "[[5]\n",
      " [7]]\n"
     ]
    }
   ],
   "source": [
    "# 1 -> 2 -> 1\n",
    "\n",
    "import tensorflow.keras as keras\n",
    "import numpy as np\n",
    "\n",
    "x_train = np.array( [[0],[1]] )\n",
    "y_train = x_train * 2 + 1\n",
    "print('x_train'); print(x_train)\n",
    "print('y_train'); print(y_train)\n",
    "x_test = np.array([[2],[3]])\n",
    "y_test = x_test * 2 + 1\n",
    "print('x_test'); print(x_test)\n",
    "print('y_test'); print(y_test)\n",
    "\n",
    "x = keras.layers.Input( shape=(1,) )\n",
    "h = keras.layers.Dense(2)(x)\n",
    "y = keras.layers.Dense(1)(h)\n",
    "\n",
    "model = keras.models.Model(x,y)\n",
    "model.summary()\n",
    "\n",
    "model.compile( optimizer = 'SGD', loss = 'mse' )\n",
    "model.fit( x_train, y_train, batch_size=2, epochs=1000, verbose=0 )\n",
    "\n",
    "y_predict = model.predict( x_test )\n",
    "print( 'y_predict' ); print( y_predict )\n",
    "print( 'y_test' ); print( y_test )"
   ]
  }
 ],
 "metadata": {
  "kernelspec": {
   "display_name": "Python 3",
   "language": "python",
   "name": "python3"
  },
  "language_info": {
   "codemirror_mode": {
    "name": "ipython",
    "version": 3
   },
   "file_extension": ".py",
   "mimetype": "text/x-python",
   "name": "python",
   "nbconvert_exporter": "python",
   "pygments_lexer": "ipython3",
   "version": "3.7.3"
  }
 },
 "nbformat": 4,
 "nbformat_minor": 2
}
