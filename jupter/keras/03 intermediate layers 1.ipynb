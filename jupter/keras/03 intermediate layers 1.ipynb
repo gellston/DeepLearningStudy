{
 "cells": [
  {
   "cell_type": "markdown",
   "metadata": {},
   "source": [
    "학습 데이터와 테스트 데이터를 정의합니다."
   ]
  },
  {
   "cell_type": "code",
   "execution_count": 1,
   "metadata": {},
   "outputs": [],
   "source": [
    "# 2 -> 3 -> 2 -> 1\n",
    "\n",
    "import tensorflow.keras as keras\n",
    "import numpy as np\n",
    "\n",
    "x_train = np.array( [[0,1], [2,3], [4,5]] )\n",
    "y_train = np.array( [ [x.sum()] for x in x_train ] )\n",
    "x_test = np.array( [[6,7], [8,9]] )\n",
    "y_test = np.array( [ [x.sum()] for x in x_test ] )"
   ]
  },
  {
   "cell_type": "markdown",
   "metadata": {},
   "source": [
    "전체 모델과 중간 모델을 만듭니다."
   ]
  },
  {
   "cell_type": "code",
   "execution_count": 2,
   "metadata": {},
   "outputs": [
    {
     "name": "stdout",
     "output_type": "stream",
     "text": [
      "Model: \"model\"\n",
      "_________________________________________________________________\n",
      "Layer (type)                 Output Shape              Param #   \n",
      "=================================================================\n",
      "x (InputLayer)               [(None, 2)]               0         \n",
      "_________________________________________________________________\n",
      "h1 (Dense)                   (None, 3)                 9         \n",
      "=================================================================\n",
      "Total params: 9\n",
      "Trainable params: 9\n",
      "Non-trainable params: 0\n",
      "_________________________________________________________________\n",
      "Model: \"model_1\"\n",
      "_________________________________________________________________\n",
      "Layer (type)                 Output Shape              Param #   \n",
      "=================================================================\n",
      "x (InputLayer)               [(None, 2)]               0         \n",
      "_________________________________________________________________\n",
      "h1 (Dense)                   (None, 3)                 9         \n",
      "_________________________________________________________________\n",
      "h2 (Dense)                   (None, 2)                 8         \n",
      "=================================================================\n",
      "Total params: 17\n",
      "Trainable params: 17\n",
      "Non-trainable params: 0\n",
      "_________________________________________________________________\n",
      "Model: \"model_2\"\n",
      "_________________________________________________________________\n",
      "Layer (type)                 Output Shape              Param #   \n",
      "=================================================================\n",
      "x (InputLayer)               [(None, 2)]               0         \n",
      "_________________________________________________________________\n",
      "h1 (Dense)                   (None, 3)                 9         \n",
      "_________________________________________________________________\n",
      "h2 (Dense)                   (None, 2)                 8         \n",
      "_________________________________________________________________\n",
      "y (Dense)                    (None, 1)                 3         \n",
      "=================================================================\n",
      "Total params: 20\n",
      "Trainable params: 20\n",
      "Non-trainable params: 0\n",
      "_________________________________________________________________\n"
     ]
    }
   ],
   "source": [
    "x  = keras.layers.Input(shape=(2,), name='x' )\n",
    "h1 = keras.layers.Dense(3, name='h1')(x)\n",
    "h2 = keras.layers.Dense(2, name='h2')(h1)\n",
    "y  = keras.layers.Dense(1, name='y' )(h2)\n",
    "\n",
    "model_h1 = keras.models.Model(x, h1)\n",
    "model_h2 = keras.models.Model(x, h2)\n",
    "model = keras.models.Model(x, y)\n",
    "\n",
    "model_h1.summary()\n",
    "model_h2.summary()\n",
    "model.summary()"
   ]
  },
  {
   "cell_type": "markdown",
   "metadata": {},
   "source": [
    "중간 층의 출력을 확인합니다."
   ]
  },
  {
   "cell_type": "code",
   "execution_count": 3,
   "metadata": {},
   "outputs": [
    {
     "name": "stdout",
     "output_type": "stream",
     "text": [
      "h1\n",
      "[[ 8.172809  -3.4071772  5.59763  ]\n",
      " [10.623313  -4.4594703  7.225649 ]]\n",
      "h2\n",
      "[[ -6.810478   -9.171081 ]\n",
      " [ -8.8319845 -11.981508 ]]\n",
      "y\n",
      "[[12.999894]\n",
      " [16.999863]]\n"
     ]
    }
   ],
   "source": [
    "model.compile( 'SGD', 'mse' )\n",
    "model.fit( x_train, y_train, batch_size = 3, epochs = 1000, verbose = 0 )\n",
    "\n",
    "print( 'h1' ); print( model_h1.predict(x_test) )\n",
    "print( 'h2' ); print( model_h2.predict(x_test) )\n",
    "print( 'y' ); print( model.predict(x_test) )"
   ]
  },
  {
   "cell_type": "markdown",
   "metadata": {},
   "source": [
    "이름으로 중간 층을 가지고 옵니다."
   ]
  },
  {
   "cell_type": "code",
   "execution_count": 4,
   "metadata": {
    "scrolled": true
   },
   "outputs": [
    {
     "name": "stdout",
     "output_type": "stream",
     "text": [
      "h1\n",
      "[[ 8.172809  -3.4071772  5.59763  ]\n",
      " [10.623313  -4.4594703  7.225649 ]]\n",
      "h2\n",
      "[[ -6.810478   -9.171081 ]\n",
      " [ -8.8319845 -11.981508 ]]\n",
      "y\n",
      "[[12.999894]\n",
      " [16.999863]]\n"
     ]
    }
   ],
   "source": [
    "layer_h1 = model.get_layer('h1')\n",
    "layer_h2 = model.get_layer('h2')\n",
    "model_h1 = keras.models.Model(model.input, layer_h1.output)\n",
    "model_h2 = keras.models.Model(model.input, layer_h2.output)\n",
    "print( 'h1' ); print( model_h1.predict(x_test) )\n",
    "print( 'h2' ); print( model_h2.predict(x_test) )\n",
    "print( 'y' ); print( model.predict(x_test) )"
   ]
  },
  {
   "cell_type": "markdown",
   "metadata": {},
   "source": [
    "인덱스로 중간 층을 가지고 옵니다."
   ]
  },
  {
   "cell_type": "code",
   "execution_count": 5,
   "metadata": {},
   "outputs": [
    {
     "name": "stdout",
     "output_type": "stream",
     "text": [
      "h1\n",
      "[[ 8.172809  -3.4071772  5.59763  ]\n",
      " [10.623313  -4.4594703  7.225649 ]]\n",
      "h2\n",
      "[[ -6.810478   -9.171081 ]\n",
      " [ -8.8319845 -11.981508 ]]\n",
      "y\n",
      "[[12.999894]\n",
      " [16.999863]]\n"
     ]
    }
   ],
   "source": [
    "layer_h1 = model.get_layer(index=1)\n",
    "layer_h2 = model.get_layer(index=2)\n",
    "model_h1 = keras.models.Model(model.input, layer_h1.output)\n",
    "model_h2 = keras.models.Model(model.input, layer_h2.output)\n",
    "print( 'h1' ); print( model_h1.predict(x_test) )\n",
    "print( 'h2' ); print( model_h2.predict(x_test) )\n",
    "print( 'y' ); print( model.predict(x_test) )"
   ]
  }
 ],
 "metadata": {
  "kernelspec": {
   "display_name": "Python 3",
   "language": "python",
   "name": "python3"
  },
  "language_info": {
   "codemirror_mode": {
    "name": "ipython",
    "version": 3
   },
   "file_extension": ".py",
   "mimetype": "text/x-python",
   "name": "python",
   "nbconvert_exporter": "python",
   "pygments_lexer": "ipython3",
   "version": "3.7.3"
  }
 },
 "nbformat": 4,
 "nbformat_minor": 2
}
