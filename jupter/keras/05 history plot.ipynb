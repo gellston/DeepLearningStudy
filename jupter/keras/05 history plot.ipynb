{
 "cells": [
  {
   "cell_type": "markdown",
   "metadata": {},
   "source": [
    "모델의 학습이 어떻게 이루어졌는지를 볼 수 있는 학습 history에 대해서 알아보겠습니다."
   ]
  },
  {
   "cell_type": "code",
   "execution_count": 1,
   "metadata": {},
   "outputs": [],
   "source": [
    "# 1 -> 2 -> 1\n",
    "%matplotlib inline\n",
    "\n",
    "import tensorflow.keras as keras\n",
    "import numpy as np\n",
    "import matplotlib.pyplot as plt\n",
    "\n",
    "x_train = np.random.rand(100,1)\n",
    "y_train = x_train * 2 + 1"
   ]
  },
  {
   "cell_type": "markdown",
   "metadata": {},
   "source": [
    "학습데이터를 만들었습니다."
   ]
  },
  {
   "cell_type": "code",
   "execution_count": 2,
   "metadata": {
    "scrolled": true
   },
   "outputs": [
    {
     "name": "stdout",
     "output_type": "stream",
     "text": [
      "Model: \"model\"\n",
      "_________________________________________________________________\n",
      "Layer (type)                 Output Shape              Param #   \n",
      "=================================================================\n",
      "input_1 (InputLayer)         [(None, 1)]               0         \n",
      "_________________________________________________________________\n",
      "dense (Dense)                (None, 2)                 4         \n",
      "_________________________________________________________________\n",
      "dense_1 (Dense)              (None, 1)                 3         \n",
      "=================================================================\n",
      "Total params: 7\n",
      "Trainable params: 7\n",
      "Non-trainable params: 0\n",
      "_________________________________________________________________\n",
      "Train on 80 samples, validate on 20 samples\n",
      "Epoch 1/10\n",
      "80/80 [==============================] - 0s 6ms/sample - loss: 10.6089 - val_loss: 5.9614\n",
      "Epoch 2/10\n",
      "80/80 [==============================] - 0s 199us/sample - loss: 6.0875 - val_loss: 3.5768\n",
      "Epoch 3/10\n",
      "80/80 [==============================] - 0s 199us/sample - loss: 3.8089 - val_loss: 2.3711\n",
      "Epoch 4/10\n",
      "80/80 [==============================] - 0s 187us/sample - loss: 2.5957 - val_loss: 1.6520\n",
      "Epoch 5/10\n",
      "80/80 [==============================] - 0s 187us/sample - loss: 1.8673 - val_loss: 1.2715\n",
      "Epoch 6/10\n",
      "80/80 [==============================] - 0s 187us/sample - loss: 1.4460 - val_loss: 1.0201\n",
      "Epoch 7/10\n",
      "80/80 [==============================] - 0s 175us/sample - loss: 1.1628 - val_loss: 0.8726\n",
      "Epoch 8/10\n",
      "80/80 [==============================] - 0s 199us/sample - loss: 0.9874 - val_loss: 0.7873\n",
      "Epoch 9/10\n",
      "80/80 [==============================] - 0s 199us/sample - loss: 0.8788 - val_loss: 0.7366\n",
      "Epoch 10/10\n",
      "80/80 [==============================] - 0s 199us/sample - loss: 0.8124 - val_loss: 0.7005\n"
     ]
    }
   ],
   "source": [
    "x = keras.layers.Input( shape=(1,) )\n",
    "h = keras.layers.Dense(2)(x)\n",
    "y = keras.layers.Dense(1)(h)\n",
    "\n",
    "model = keras.models.Model(x,y)\n",
    "model.summary()\n",
    "model.compile( 'sgd', 'mse' )\n",
    "hist = model.fit( x_train, y_train, batch_size=32, epochs=10, validation_split=0.2 )"
   ]
  },
  {
   "cell_type": "markdown",
   "metadata": {},
   "source": [
    "모델을 학습시킬때 validation_split 에 값을 넣어주면 학습데이터의 일정비율은 학습에 사용하지 않고 매 epoch 마다 모델을 검증하는데 사용합니다. 위의 코드는 x_train 과 y_train 의 20 % 학습에 사용하지 않고 학습 도중에 검증 (validation)에 사용하겠다는 의미입니다. 매 epoch 마다 loss 와 val_loss 가 보고가 되는것을 볼 수 있습니다."
   ]
  },
  {
   "cell_type": "code",
   "execution_count": 3,
   "metadata": {},
   "outputs": [
    {
     "name": "stdout",
     "output_type": "stream",
     "text": [
      "<class 'dict'>\n",
      "<class 'list'>\n",
      "10\n"
     ]
    },
    {
     "data": {
      "image/png": "[encoded data removed]",
      "text/plain": [
       "<Figure size 432x288 with 1 Axes>"
      ]
     },
     "metadata": {
      "needs_background": "light"
     },
     "output_type": "display_data"
    }
   ],
   "source": [
    "print(type(hist.history))\n",
    "print(type(hist.history['loss']))\n",
    "print(len(hist.history['loss']))\n",
    "\n",
    "plt.title('Loss')\n",
    "plt.plot(hist.history['loss'])\n",
    "plt.plot(hist.history['val_loss'])\n",
    "plt.ylabel('loss')\n",
    "plt.xlabel('epoch')\n",
    "plt.legend(['train', 'val'], loc=0)\n",
    "plt.show()"
   ]
  },
  {
   "cell_type": "markdown",
   "metadata": {},
   "source": [
    "hist.history 는 dict 타입입니다. 'loss' 라는 키워드로 매 epoch 의 끝 마다 loss 함수의 값이 저장되어 epochs 개의 값이 있는 리스트를 불러올 수 있습니다. pyplot 으로 epoch 이 증가함에 따라 loss 값이 어떻게 감소하는지 확인할 수 있습니다. loss 는 학습데이터로 계산한 값이고 val_loss 는 validation 데이터로 계산한 값입니다."
   ]
  },
  {
   "cell_type": "code",
   "execution_count": 4,
   "metadata": {},
   "outputs": [
    {
     "name": "stdout",
     "output_type": "stream",
     "text": [
      "Train on 100 samples, validate on 100 samples\n",
      "Epoch 1/10\n",
      "100/100 [==============================] - 0s 3ms/sample - loss: 0.7421 - val_loss: 0.6352\n",
      "Epoch 2/10\n",
      "100/100 [==============================] - 0s 239us/sample - loss: 0.7011 - val_loss: 0.6031\n",
      "Epoch 3/10\n",
      "100/100 [==============================] - 0s 249us/sample - loss: 0.6696 - val_loss: 0.5717\n",
      "Epoch 4/10\n",
      "100/100 [==============================] - 0s 269us/sample - loss: 0.6410 - val_loss: 0.5508\n",
      "Epoch 5/10\n",
      "100/100 [==============================] - 0s 239us/sample - loss: 0.6138 - val_loss: 0.5264\n",
      "Epoch 6/10\n",
      "100/100 [==============================] - 0s 259us/sample - loss: 0.5895 - val_loss: 0.5033\n",
      "Epoch 7/10\n",
      "100/100 [==============================] - 0s 229us/sample - loss: 0.5629 - val_loss: 0.4769\n",
      "Epoch 8/10\n",
      "100/100 [==============================] - 0s 259us/sample - loss: 0.5390 - val_loss: 0.4627\n",
      "Epoch 9/10\n",
      "100/100 [==============================] - 0s 259us/sample - loss: 0.5231 - val_loss: 0.4426\n",
      "Epoch 10/10\n",
      "100/100 [==============================] - 0s 249us/sample - loss: 0.5049 - val_loss: 0.4279\n"
     ]
    }
   ],
   "source": [
    "x_val = np.random.rand(100,1)\n",
    "y_val = x_val * 2 + 1\n",
    "\n",
    "hist = model.fit( x_train, y_train, batch_size=32, epochs=10,\n",
    "                 validation_data=(x_val, y_val) )"
   ]
  },
  {
   "cell_type": "markdown",
   "metadata": {},
   "source": [
    "위와 같이 validation_split 대신에 validation_data 에 사용할 x, y 데이터를 쌍으로 넣어줄 수도 있습니다."
   ]
  }
 ],
 "metadata": {
  "kernelspec": {
   "display_name": "Python 3",
   "language": "python",
   "name": "python3"
  },
  "language_info": {
   "codemirror_mode": {
    "name": "ipython",
    "version": 3
   },
   "file_extension": ".py",
   "mimetype": "text/x-python",
   "name": "python",
   "nbconvert_exporter": "python",
   "pygments_lexer": "ipython3",
   "version": "3.7.3"
  }
 },
 "nbformat": 4,
 "nbformat_minor": 2
}
