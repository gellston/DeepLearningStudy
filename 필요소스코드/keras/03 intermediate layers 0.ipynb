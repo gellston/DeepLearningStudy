{
 "cells": [
  {
   "cell_type": "markdown",
   "metadata": {},
   "source": [
    "모델의 중간층의 출력을 볼수 있는 방법을 알아보겠습니다. 먼저 학습 데이터와 테스트 데이터를 정의합니다."
   ]
  },
  {
   "cell_type": "code",
   "execution_count": 1,
   "metadata": {},
   "outputs": [
    {
     "name": "stdout",
     "output_type": "stream",
     "text": [
      "x_train\n",
      "[[0]\n",
      " [1]]\n",
      "y_train\n",
      "[[1]\n",
      " [3]]\n",
      "x_test\n",
      "[[2]\n",
      " [3]]\n",
      "y_test\n",
      "[[5]\n",
      " [7]]\n"
     ]
    }
   ],
   "source": [
    "# 1 -> 2 -> 1\n",
    "\n",
    "import tensorflow.keras as keras\n",
    "import numpy as np\n",
    "\n",
    "x_train = np.array( [[0],[1]] )\n",
    "y_train = x_train * 2 + 1\n",
    "print('x_train'); print(x_train)\n",
    "print('y_train'); print(y_train)\n",
    "x_test = np.array([[2],[3]])\n",
    "y_test = x_test * 2 + 1\n",
    "print('x_test'); print(x_test)\n",
    "print('y_test'); print(y_test)"
   ]
  },
  {
   "cell_type": "markdown",
   "metadata": {},
   "source": [
    "모델을 만들고 학습시킵니다. 이번에는 출력층에 이름까지 넣어줍니다."
   ]
  },
  {
   "cell_type": "code",
   "execution_count": 2,
   "metadata": {
    "scrolled": true
   },
   "outputs": [
    {
     "name": "stdout",
     "output_type": "stream",
     "text": [
      "Model: \"model\"\n",
      "_________________________________________________________________\n",
      "Layer (type)                 Output Shape              Param #   \n",
      "=================================================================\n",
      "x (InputLayer)               [(None, 1)]               0         \n",
      "_________________________________________________________________\n",
      "h (Dense)                    (None, 2)                 4         \n",
      "_________________________________________________________________\n",
      "y (Dense)                    (None, 1)                 3         \n",
      "=================================================================\n",
      "Total params: 7\n",
      "Trainable params: 7\n",
      "Non-trainable params: 0\n",
      "_________________________________________________________________\n"
     ]
    }
   ],
   "source": [
    "x = keras.layers.Input( shape=(1,), name='x' )\n",
    "h = keras.layers.Dense( 2, name='h' )(x)\n",
    "y = keras.layers.Dense( 1, name='y' )(h)\n",
    "model = keras.models.Model(x,y)\n",
    "model.summary()\n",
    "\n",
    "model.compile( 'SGD', 'mse' )\n",
    "history = model.fit( x_train, y_train, batch_size=2, epochs=1000, verbose=0 )"
   ]
  },
  {
   "cell_type": "markdown",
   "metadata": {},
   "source": [
    "다음과 같이 중간층의 출력을 볼 수 있는 모델을 만들어 확인할 수 있습니다. 이 예제에서는 모델을 학습한 후 중간 모델을 정의 했지만 모델을 학습하기 전에 정의해도 됩니다."
   ]
  },
  {
   "cell_type": "code",
   "execution_count": 3,
   "metadata": {},
   "outputs": [
    {
     "name": "stdout",
     "output_type": "stream",
     "text": [
      "Model: \"model_1\"\n",
      "_________________________________________________________________\n",
      "Layer (type)                 Output Shape              Param #   \n",
      "=================================================================\n",
      "x (InputLayer)               [(None, 1)]               0         \n",
      "_________________________________________________________________\n",
      "h (Dense)                    (None, 2)                 4         \n",
      "=================================================================\n",
      "Total params: 4\n",
      "Trainable params: 4\n",
      "Non-trainable params: 0\n",
      "_________________________________________________________________\n",
      "h\n",
      "[[1.0329008 3.5059717]\n",
      " [1.5206254 5.176655 ]]\n",
      "y\n",
      "[[4.999988]\n",
      " [6.999979]]\n"
     ]
    }
   ],
   "source": [
    "model_h = keras.models.Model(x,h)\n",
    "model_h.summary()\n",
    "\n",
    "print( 'h' ); print( model_h.predict( x_test ) )\n",
    "print( 'y' ); print( model.predict( x_test ) )"
   ]
  },
  {
   "cell_type": "markdown",
   "metadata": {},
   "source": [
    "혹은 다음과 같이 이름으로 레이어를 가지고 와서 중간 모델을 정의하고 확인할 수 있습니다."
   ]
  },
  {
   "cell_type": "code",
   "execution_count": 4,
   "metadata": {},
   "outputs": [
    {
     "name": "stdout",
     "output_type": "stream",
     "text": [
      "h\n",
      "[[1.0329008 3.5059717]\n",
      " [1.5206254 5.176655 ]]\n",
      "y\n",
      "[[4.999988]\n",
      " [6.999979]]\n"
     ]
    }
   ],
   "source": [
    "layer_h = model.get_layer('h')\n",
    "model_h = keras.models.Model(model.input, layer_h.output)\n",
    "\n",
    "print( 'h' ); print( model_h.predict( x_test ) )\n",
    "print( 'y' ); print( model.predict( x_test ) )"
   ]
  },
  {
   "cell_type": "markdown",
   "metadata": {},
   "source": [
    "혹은 다음과 같이 인덱스로 레이어를 가지고 올 수 있습니다."
   ]
  },
  {
   "cell_type": "code",
   "execution_count": 5,
   "metadata": {},
   "outputs": [
    {
     "name": "stdout",
     "output_type": "stream",
     "text": [
      "h\n",
      "[[1.0329008 3.5059717]\n",
      " [1.5206254 5.176655 ]]\n",
      "y\n",
      "[[4.999988]\n",
      " [6.999979]]\n"
     ]
    }
   ],
   "source": [
    "layer_h = model.get_layer(index=1)\n",
    "model_h = keras.models.Model(model.input, layer_h.output)\n",
    "\n",
    "print( 'h' ); print( model_h.predict( x_test ) )\n",
    "print( 'y' ); print( model.predict( x_test ) )"
   ]
  }
 ],
 "metadata": {
  "kernelspec": {
   "display_name": "Python 3",
   "language": "python",
   "name": "python3"
  },
  "language_info": {
   "codemirror_mode": {
    "name": "ipython",
    "version": 3
   },
   "file_extension": ".py",
   "mimetype": "text/x-python",
   "name": "python",
   "nbconvert_exporter": "python",
   "pygments_lexer": "ipython3",
   "version": "3.7.3"
  }
 },
 "nbformat": 4,
 "nbformat_minor": 2
}
