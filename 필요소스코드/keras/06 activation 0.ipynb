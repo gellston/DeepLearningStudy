{
 "cells": [
  {
   "cell_type": "markdown",
   "metadata": {},
   "source": [
    "wx+b 를 출력하는 뉴런을 아무리 많이 연결을 하더라도 전체 네트워크의 입력과 출력의 관계는 선형관계입니다. 그러므로 입력과 출력이 비선형 관계를 표현하기 위해서는 네트워크에 비선형 요소를 넣어주어야합니다. 그러기 위해 뉴런의 wx+b 다음에 적용하는 비선형 함수, 즉 활성함수에 대해서 알아봅시다. 다음과 같이 레이어에 옵션으로 activation 의 이름을 넣어줄 수 있습니다."
   ]
  },
  {
   "cell_type": "code",
   "execution_count": 1,
   "metadata": {},
   "outputs": [
    {
     "name": "stdout",
     "output_type": "stream",
     "text": [
      "Model: \"sequential\"\n",
      "_________________________________________________________________\n",
      "Layer (type)                 Output Shape              Param #   \n",
      "=================================================================\n",
      "dense (Dense)                (None, 1)                 2         \n",
      "_________________________________________________________________\n",
      "dense_1 (Dense)              (None, 2)                 4         \n",
      "_________________________________________________________________\n",
      "dense_2 (Dense)              (None, 3)                 9         \n",
      "=================================================================\n",
      "Total params: 15\n",
      "Trainable params: 15\n",
      "Non-trainable params: 0\n",
      "_________________________________________________________________\n"
     ]
    }
   ],
   "source": [
    "import tensorflow.keras as keras\n",
    "\n",
    "model = keras.models.Sequential()\n",
    "model.add(keras.layers.Dense(1, activation='relu', input_dim=1))\n",
    "model.add(keras.layers.Dense(2, activation='tanh'))\n",
    "model.add(keras.layers.Dense(3, activation='sigmoid'))\n",
    "model.summary()"
   ]
  },
  {
   "cell_type": "markdown",
   "metadata": {},
   "source": [
    "위의 예에서 첫번째 층에 있는 모든 뉴런의 출력은 각각 relu 함수를 거쳐서 두번째 층으로 가고 두번째 층의 모든 뉴런의 출력은 각각 tanh 함수를 거쳐서 세번째 층으로 가고 마지막 세번째 층의 모든 뉴런의 출력은 각각 sigmoid 함수를 통해 모델의 output 으로 출력됩니다. 위의 예처럼 활성함수를 옵션으로 넣어주어도 되지만 다음과 같이 Activation 레이어를 따로 사용할 수도 있습니다. summary 를 보면 Activation 층에는 파라메터가 없는것을 알 수 있습니다."
   ]
  },
  {
   "cell_type": "code",
   "execution_count": 2,
   "metadata": {},
   "outputs": [
    {
     "name": "stdout",
     "output_type": "stream",
     "text": [
      "Model: \"sequential_1\"\n",
      "_________________________________________________________________\n",
      "Layer (type)                 Output Shape              Param #   \n",
      "=================================================================\n",
      "dense_3 (Dense)              (None, 1)                 2         \n",
      "_________________________________________________________________\n",
      "activation (Activation)      (None, 1)                 0         \n",
      "_________________________________________________________________\n",
      "dense_4 (Dense)              (None, 2)                 4         \n",
      "_________________________________________________________________\n",
      "activation_1 (Activation)    (None, 2)                 0         \n",
      "_________________________________________________________________\n",
      "dense_5 (Dense)              (None, 3)                 9         \n",
      "_________________________________________________________________\n",
      "activation_2 (Activation)    (None, 3)                 0         \n",
      "=================================================================\n",
      "Total params: 15\n",
      "Trainable params: 15\n",
      "Non-trainable params: 0\n",
      "_________________________________________________________________\n"
     ]
    }
   ],
   "source": [
    "model = keras.models.Sequential()\n",
    "model.add(keras.layers.Dense(1, input_dim=1))\n",
    "model.add(keras.layers.Activation('relu'))\n",
    "model.add(keras.layers.Dense(2))\n",
    "model.add(keras.layers.Activation('tanh'))\n",
    "model.add(keras.layers.Dense(3))\n",
    "model.add(keras.layers.Activation('sigmoid'))\n",
    "model.summary()"
   ]
  }
 ],
 "metadata": {
  "kernelspec": {
   "display_name": "Python 3",
   "language": "python",
   "name": "python3"
  },
  "language_info": {
   "codemirror_mode": {
    "name": "ipython",
    "version": 3
   },
   "file_extension": ".py",
   "mimetype": "text/x-python",
   "name": "python",
   "nbconvert_exporter": "python",
   "pygments_lexer": "ipython3",
   "version": "3.7.3"
  }
 },
 "nbformat": 4,
 "nbformat_minor": 2
}
