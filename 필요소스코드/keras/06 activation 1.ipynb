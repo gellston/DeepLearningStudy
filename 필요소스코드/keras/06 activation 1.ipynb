{
 "cells": [
  {
   "cell_type": "markdown",
   "metadata": {},
   "source": [
    "활성함수를 사용해 변형된 sigmoid 함수를 학습해 봅시다."
   ]
  },
  {
   "cell_type": "code",
   "execution_count": 1,
   "metadata": {
    "scrolled": true
   },
   "outputs": [
    {
     "data": {
      "image/png": "[encoded data removed]",
      "text/plain": [
       "<Figure size 432x288 with 1 Axes>"
      ]
     },
     "metadata": {
      "needs_background": "light"
     },
     "output_type": "display_data"
    }
   ],
   "source": [
    "import tensorflow.keras as keras\n",
    "import numpy as np\n",
    "import matplotlib.pyplot as plt\n",
    "%matplotlib inline\n",
    "\n",
    "def f(x):\n",
    "    return 2 / (1+np.exp(-(2*x+1))) + 1\n",
    "\n",
    "x = np.linspace(-0.5-4,-0.5+4,100)\n",
    "plt.plot(x, f(x))\n",
    "plt.show()"
   ]
  },
  {
   "cell_type": "markdown",
   "metadata": {},
   "source": [
    "위의 함수는 sigmoid 가 x 와 y 축 방향으로 축소, 확대 되고 이동한 함수입니다."
   ]
  },
  {
   "cell_type": "code",
   "execution_count": 2,
   "metadata": {},
   "outputs": [],
   "source": [
    "x_train = np.random.rand(1024,1)*10-5\n",
    "y_train = f(x_train)\n",
    "\n",
    "x_test = np.linspace(-0.5-2, -0.5+2, num=5).reshape((-1,1))\n",
    "y_test = f(x_test)"
   ]
  },
  {
   "cell_type": "markdown",
   "metadata": {},
   "source": [
    "위와 같이 변화가 일어나는 영역을 충분히 포함하는 학습데이터를 만들었습니다."
   ]
  },
  {
   "cell_type": "code",
   "execution_count": 3,
   "metadata": {
    "scrolled": false
   },
   "outputs": [
    {
     "name": "stdout",
     "output_type": "stream",
     "text": [
      "Train on 819 samples, validate on 205 samples\n",
      "Epoch 1/100\n",
      "819/819 [==============================] - 1s 1ms/sample - loss: 0.3863 - val_loss: 0.0206\n",
      "Epoch 2/100\n",
      "819/819 [==============================] - 0s 540us/sample - loss: 0.0120 - val_loss: 0.0070\n",
      "Epoch 3/100\n",
      "819/819 [==============================] - 0s 569us/sample - loss: 0.0048 - val_loss: 0.0032\n",
      "Epoch 4/100\n",
      "819/819 [==============================] - 0s 572us/sample - loss: 0.0025 - val_loss: 0.0020\n",
      "Epoch 5/100\n",
      "819/819 [==============================] - 0s 550us/sample - loss: 0.0015 - val_loss: 0.0012\n",
      "Epoch 6/100\n",
      "819/819 [==============================] - 0s 571us/sample - loss: 0.0010 - val_loss: 8.1561e-04\n",
      "Epoch 7/100\n",
      "819/819 [==============================] - 0s 577us/sample - loss: 6.8882e-04 - val_loss: 5.7246e-04\n",
      "Epoch 8/100\n",
      "819/819 [==============================] - 0s 563us/sample - loss: 4.9177e-04 - val_loss: 4.4517e-04\n",
      "Epoch 9/100\n",
      "819/819 [==============================] - 0s 604us/sample - loss: 3.5751e-04 - val_loss: 2.9496e-04\n",
      "Epoch 10/100\n",
      "819/819 [==============================] - 0s 598us/sample - loss: 2.6261e-04 - val_loss: 2.2108e-04\n",
      "Epoch 11/100\n",
      "819/819 [==============================] - 0s 586us/sample - loss: 1.9375e-04 - val_loss: 1.6406e-04\n",
      "Epoch 12/100\n",
      "819/819 [==============================] - 0s 606us/sample - loss: 1.4702e-04 - val_loss: 1.2360e-04\n",
      "Epoch 13/100\n",
      "819/819 [==============================] - 0s 605us/sample - loss: 1.1082e-04 - val_loss: 9.3724e-05\n",
      "Epoch 14/100\n",
      "819/819 [==============================] - 0s 580us/sample - loss: 8.3480e-05 - val_loss: 7.2033e-05\n",
      "Epoch 15/100\n",
      "819/819 [==============================] - 0s 552us/sample - loss: 6.4140e-05 - val_loss: 5.4267e-05\n",
      "Epoch 16/100\n",
      "819/819 [==============================] - 0s 570us/sample - loss: 4.8919e-05 - val_loss: 4.1485e-05\n",
      "Epoch 17/100\n",
      "819/819 [==============================] - 1s 623us/sample - loss: 3.7451e-05 - val_loss: 3.3258e-05\n",
      "Epoch 18/100\n",
      "819/819 [==============================] - 0s 558us/sample - loss: 2.9161e-05 - val_loss: 2.4716e-05\n",
      "Epoch 19/100\n",
      "819/819 [==============================] - 0s 593us/sample - loss: 2.2431e-05 - val_loss: 1.9188e-05\n",
      "Epoch 20/100\n",
      "819/819 [==============================] - 0s 569us/sample - loss: 1.7307e-05 - val_loss: 1.4855e-05\n",
      "Epoch 21/100\n",
      "819/819 [==============================] - 0s 588us/sample - loss: 1.3487e-05 - val_loss: 1.1509e-05\n",
      "Epoch 22/100\n",
      "819/819 [==============================] - 0s 570us/sample - loss: 1.0405e-05 - val_loss: 9.0043e-06\n",
      "Epoch 23/100\n",
      "819/819 [==============================] - 0s 551us/sample - loss: 8.1690e-06 - val_loss: 7.1780e-06\n",
      "Epoch 24/100\n",
      "819/819 [==============================] - 0s 552us/sample - loss: 6.3610e-06 - val_loss: 5.5661e-06\n",
      "Epoch 25/100\n",
      "819/819 [==============================] - 0s 596us/sample - loss: 4.9818e-06 - val_loss: 4.5687e-06\n",
      "Epoch 26/100\n",
      "819/819 [==============================] - 0s 575us/sample - loss: 3.9106e-06 - val_loss: 3.3961e-06\n",
      "Epoch 27/100\n",
      "819/819 [==============================] - 0s 565us/sample - loss: 3.0659e-06 - val_loss: 2.6208e-06\n",
      "Epoch 28/100\n",
      "819/819 [==============================] - 0s 562us/sample - loss: 2.3963e-06 - val_loss: 2.0704e-06\n",
      "Epoch 29/100\n",
      "819/819 [==============================] - 0s 572us/sample - loss: 1.8715e-06 - val_loss: 1.6401e-06\n",
      "Epoch 30/100\n",
      "819/819 [==============================] - 1s 629us/sample - loss: 1.4716e-06 - val_loss: 1.2741e-06\n",
      "Epoch 31/100\n",
      "819/819 [==============================] - 1s 612us/sample - loss: 1.1642e-06 - val_loss: 9.9556e-07\n",
      "Epoch 32/100\n",
      "819/819 [==============================] - 0s 567us/sample - loss: 8.9950e-07 - val_loss: 8.1155e-07\n",
      "Epoch 33/100\n",
      "819/819 [==============================] - 0s 570us/sample - loss: 7.1576e-07 - val_loss: 6.2411e-07\n",
      "Epoch 34/100\n",
      "819/819 [==============================] - 0s 551us/sample - loss: 5.6202e-07 - val_loss: 4.9325e-07\n",
      "Epoch 35/100\n",
      "819/819 [==============================] - 0s 552us/sample - loss: 4.4089e-07 - val_loss: 4.0571e-07\n",
      "Epoch 36/100\n",
      "819/819 [==============================] - 0s 570us/sample - loss: 3.4394e-07 - val_loss: 3.1208e-07\n",
      "Epoch 37/100\n",
      "819/819 [==============================] - 0s 599us/sample - loss: 2.7215e-07 - val_loss: 2.4466e-07\n",
      "Epoch 38/100\n",
      "819/819 [==============================] - 0s 586us/sample - loss: 2.1354e-07 - val_loss: 1.8518e-07\n",
      "Epoch 39/100\n",
      "819/819 [==============================] - 0s 583us/sample - loss: 1.6757e-07 - val_loss: 1.4513e-07\n",
      "Epoch 40/100\n",
      "819/819 [==============================] - 0s 589us/sample - loss: 1.3247e-07 - val_loss: 1.1725e-07\n",
      "Epoch 41/100\n",
      "819/819 [==============================] - 0s 593us/sample - loss: 1.0416e-07 - val_loss: 9.6467e-08\n",
      "Epoch 42/100\n",
      "819/819 [==============================] - 0s 553us/sample - loss: 8.2204e-08 - val_loss: 7.1775e-08\n",
      "Epoch 43/100\n",
      "819/819 [==============================] - 0s 587us/sample - loss: 6.3640e-08 - val_loss: 6.3904e-08\n",
      "Epoch 44/100\n",
      "819/819 [==============================] - 0s 593us/sample - loss: 5.0745e-08 - val_loss: 4.4628e-08\n",
      "Epoch 45/100\n",
      "819/819 [==============================] - 0s 568us/sample - loss: 4.0057e-08 - val_loss: 3.4854e-08\n",
      "Epoch 46/100\n",
      "819/819 [==============================] - 0s 570us/sample - loss: 3.1643e-08 - val_loss: 2.7018e-08\n",
      "Epoch 47/100\n",
      "819/819 [==============================] - 0s 571us/sample - loss: 2.4736e-08 - val_loss: 2.1321e-08\n",
      "Epoch 48/100\n",
      "819/819 [==============================] - 0s 586us/sample - loss: 1.9534e-08 - val_loss: 1.6925e-08\n",
      "Epoch 49/100\n",
      "819/819 [==============================] - 0s 576us/sample - loss: 1.5309e-08 - val_loss: 1.3993e-08\n",
      "Epoch 50/100\n",
      "819/819 [==============================] - 0s 592us/sample - loss: 1.2124e-08 - val_loss: 1.0728e-08\n",
      "Epoch 51/100\n",
      "819/819 [==============================] - 0s 597us/sample - loss: 9.5180e-09 - val_loss: 8.3518e-09\n",
      "Epoch 52/100\n",
      "819/819 [==============================] - 0s 569us/sample - loss: 7.4490e-09 - val_loss: 6.4809e-09\n",
      "Epoch 53/100\n",
      "819/819 [==============================] - 0s 582us/sample - loss: 5.8810e-09 - val_loss: 5.1280e-09\n",
      "Epoch 54/100\n",
      "819/819 [==============================] - 0s 564us/sample - loss: 4.6833e-09 - val_loss: 4.0232e-09\n",
      "Epoch 55/100\n",
      "819/819 [==============================] - 0s 571us/sample - loss: 3.6707e-09 - val_loss: 3.1564e-09\n",
      "Epoch 56/100\n",
      "819/819 [==============================] - 0s 589us/sample - loss: 2.8683e-09 - val_loss: 2.4691e-09\n",
      "Epoch 57/100\n",
      "819/819 [==============================] - 0s 595us/sample - loss: 2.2767e-09 - val_loss: 1.9510e-09\n",
      "Epoch 58/100\n",
      "819/819 [==============================] - 0s 588us/sample - loss: 1.7677e-09 - val_loss: 1.5318e-09\n",
      "Epoch 59/100\n",
      "819/819 [==============================] - 1s 618us/sample - loss: 1.4115e-09 - val_loss: 1.2096e-09\n",
      "Epoch 60/100\n",
      "819/819 [==============================] - 0s 586us/sample - loss: 1.0762e-09 - val_loss: 9.8861e-10\n",
      "Epoch 61/100\n",
      "819/819 [==============================] - 0s 566us/sample - loss: 8.6375e-10 - val_loss: 7.4486e-10\n",
      "Epoch 62/100\n",
      "819/819 [==============================] - 0s 571us/sample - loss: 6.8389e-10 - val_loss: 5.9740e-10\n",
      "Epoch 63/100\n",
      "819/819 [==============================] - 0s 576us/sample - loss: 5.3709e-10 - val_loss: 4.7985e-10\n",
      "Epoch 64/100\n",
      "819/819 [==============================] - 0s 588us/sample - loss: 4.2649e-10 - val_loss: 3.6916e-10\n",
      "Epoch 65/100\n",
      "819/819 [==============================] - 0s 586us/sample - loss: 3.3733e-10 - val_loss: 3.0210e-10\n",
      "Epoch 66/100\n",
      "819/819 [==============================] - 0s 571us/sample - loss: 2.6083e-10 - val_loss: 2.3404e-10\n",
      "Epoch 67/100\n",
      "819/819 [==============================] - 0s 593us/sample - loss: 2.1162e-10 - val_loss: 1.7986e-10\n",
      "Epoch 68/100\n",
      "819/819 [==============================] - 0s 589us/sample - loss: 1.6499e-10 - val_loss: 1.4509e-10\n",
      "Epoch 69/100\n",
      "819/819 [==============================] - 0s 570us/sample - loss: 1.2883e-10 - val_loss: 1.1217e-10\n",
      "Epoch 70/100\n",
      "819/819 [==============================] - 1s 637us/sample - loss: 1.0267e-10 - val_loss: 9.1692e-11\n",
      "Epoch 71/100\n",
      "819/819 [==============================] - 0s 566us/sample - loss: 8.1991e-11 - val_loss: 7.3052e-11\n",
      "Epoch 72/100\n",
      "819/819 [==============================] - 0s 550us/sample - loss: 6.4707e-11 - val_loss: 5.6057e-11\n"
     ]
    },
    {
     "name": "stdout",
     "output_type": "stream",
     "text": [
      "Epoch 73/100\n",
      "819/819 [==============================] - 0s 570us/sample - loss: 5.1105e-11 - val_loss: 4.4797e-11\n",
      "Epoch 74/100\n",
      "819/819 [==============================] - 0s 550us/sample - loss: 4.0908e-11 - val_loss: 3.4998e-11\n",
      "Epoch 75/100\n",
      "819/819 [==============================] - 0s 586us/sample - loss: 3.2432e-11 - val_loss: 2.8163e-11\n",
      "Epoch 76/100\n",
      "819/819 [==============================] - 0s 582us/sample - loss: 2.5799e-11 - val_loss: 2.2586e-11\n",
      "Epoch 77/100\n",
      "819/819 [==============================] - 0s 604us/sample - loss: 2.0688e-11 - val_loss: 1.8178e-11\n",
      "Epoch 78/100\n",
      "819/819 [==============================] - 0s 548us/sample - loss: 1.6710e-11 - val_loss: 1.5021e-11\n",
      "Epoch 79/100\n",
      "819/819 [==============================] - 0s 559us/sample - loss: 1.3902e-11 - val_loss: 1.2386e-11\n",
      "Epoch 80/100\n",
      "819/819 [==============================] - 0s 585us/sample - loss: 1.1692e-11 - val_loss: 1.0564e-11\n",
      "Epoch 81/100\n",
      "819/819 [==============================] - 0s 548us/sample - loss: 1.0125e-11 - val_loss: 9.4823e-12\n",
      "Epoch 82/100\n",
      "819/819 [==============================] - 0s 583us/sample - loss: 8.6181e-12 - val_loss: 7.8538e-12\n",
      "Epoch 83/100\n",
      "819/819 [==============================] - 0s 560us/sample - loss: 7.6231e-12 - val_loss: 7.0316e-12\n",
      "Epoch 84/100\n",
      "819/819 [==============================] - 0s 546us/sample - loss: 6.8486e-12 - val_loss: 6.2571e-12\n",
      "Epoch 85/100\n",
      "819/819 [==============================] - 0s 591us/sample - loss: 6.1521e-12 - val_loss: 6.0645e-12\n",
      "Epoch 86/100\n",
      "819/819 [==============================] - 0s 588us/sample - loss: 5.6823e-12 - val_loss: 5.6954e-12\n",
      "Epoch 87/100\n",
      "819/819 [==============================] - 0s 568us/sample - loss: 5.2551e-12 - val_loss: 4.9698e-12\n",
      "Epoch 88/100\n",
      "819/819 [==============================] - 0s 572us/sample - loss: 4.8462e-12 - val_loss: 4.5934e-12\n",
      "Epoch 89/100\n",
      "819/819 [==============================] - 0s 570us/sample - loss: 4.5330e-12 - val_loss: 4.4110e-12\n",
      "Epoch 90/100\n",
      "819/819 [==============================] - 0s 550us/sample - loss: 4.2604e-12 - val_loss: 4.0251e-12\n",
      "Epoch 91/100\n",
      "819/819 [==============================] - 0s 552us/sample - loss: 3.9874e-12 - val_loss: 3.8082e-12\n",
      "Epoch 92/100\n",
      "819/819 [==============================] - 0s 593us/sample - loss: 3.9054e-12 - val_loss: 4.1148e-12\n",
      "Epoch 93/100\n",
      "819/819 [==============================] - 0s 566us/sample - loss: 3.7590e-12 - val_loss: 3.5890e-12\n",
      "Epoch 94/100\n",
      "819/819 [==============================] - 0s 570us/sample - loss: 3.5415e-12 - val_loss: 3.4112e-12\n",
      "Epoch 95/100\n",
      "819/819 [==============================] - 1s 613us/sample - loss: 3.2730e-12 - val_loss: 3.2160e-12\n",
      "Epoch 96/100\n",
      "819/819 [==============================] - 0s 564us/sample - loss: 3.3410e-12 - val_loss: 3.2435e-12\n",
      "Epoch 97/100\n",
      "819/819 [==============================] - 0s 555us/sample - loss: 3.1746e-12 - val_loss: 3.1355e-12\n",
      "Epoch 98/100\n",
      "819/819 [==============================] - 0s 593us/sample - loss: 3.0585e-12 - val_loss: 2.8704e-12\n",
      "Epoch 99/100\n",
      "819/819 [==============================] - 0s 568us/sample - loss: 2.9861e-12 - val_loss: 2.9474e-12\n",
      "Epoch 100/100\n",
      "819/819 [==============================] - 0s 571us/sample - loss: 2.9479e-12 - val_loss: 3.0924e-12\n"
     ]
    },
    {
     "data": {
      "image/png": "[encoded data removed]",
      "text/plain": [
       "<Figure size 432x288 with 1 Axes>"
      ]
     },
     "metadata": {
      "needs_background": "light"
     },
     "output_type": "display_data"
    },
    {
     "name": "stdout",
     "output_type": "stream",
     "text": [
      "y_pred\n",
      "[[1.0359721]\n",
      " [1.2384087]\n",
      " [2.0000005]\n",
      " [2.761592 ]\n",
      " [2.9640281]]\n",
      "y_test\n",
      "[[1.03597242]\n",
      " [1.23840584]\n",
      " [2.        ]\n",
      " [2.76159416]\n",
      " [2.96402758]]\n"
     ]
    }
   ],
   "source": [
    "model = keras.models.Sequential()\n",
    "model.add(keras.layers.Dense(1, name='d1', input_dim=1))\n",
    "model.add(keras.layers.Activation('sigmoid'))\n",
    "model.add(keras.layers.Dense(1, name='d2'))\n",
    "\n",
    "sgd = keras.optimizers.SGD(lr=0.05)\n",
    "model.compile(sgd, 'mse')\n",
    "hist = model.fit(x_train, y_train, batch_size=4, epochs=100, validation_split=0.2)\n",
    "\n",
    "plt.plot(hist.history['val_loss'])\n",
    "plt.title('val_loss')\n",
    "plt.ylabel('val_loss')\n",
    "plt.xlabel('epoch')\n",
    "plt.show()\n",
    "\n",
    "y_pred = model.predict(x_test)\n",
    "print('y_pred')\n",
    "print(y_pred)\n",
    "print('y_test')\n",
    "print(y_test)"
   ]
  },
  {
   "cell_type": "code",
   "execution_count": 4,
   "metadata": {},
   "outputs": [
    {
     "name": "stdout",
     "output_type": "stream",
     "text": [
      "d1_weights\n",
      "[array([[1.9999814]], dtype=float32), array([0.9999913], dtype=float32)]\n",
      "d2_weights\n",
      "[array([[2.0000036]], dtype=float32), array([0.99999833], dtype=float32)]\n"
     ]
    }
   ],
   "source": [
    "d1_weights = model.get_layer('d1').get_weights()\n",
    "d2_weights = model.get_layer('d2').get_weights()\n",
    "\n",
    "print('d1_weights'); print(d1_weights)\n",
    "print('d2_weights'); print(d2_weights)"
   ]
  },
  {
   "cell_type": "markdown",
   "metadata": {},
   "source": [
    "(w1, b1) = (2, 1), (w2, b2) = (2, 1) 혹은 (w1, b1) = (-2, -1), (w2, b2) = (-2, 3) 으로 학습된 것을 알 수 있다."
   ]
  }
 ],
 "metadata": {
  "kernelspec": {
   "display_name": "Python 3",
   "language": "python",
   "name": "python3"
  },
  "language_info": {
   "codemirror_mode": {
    "name": "ipython",
    "version": 3
   },
   "file_extension": ".py",
   "mimetype": "text/x-python",
   "name": "python",
   "nbconvert_exporter": "python",
   "pygments_lexer": "ipython3",
   "version": "3.7.3"
  }
 },
 "nbformat": 4,
 "nbformat_minor": 2
}
