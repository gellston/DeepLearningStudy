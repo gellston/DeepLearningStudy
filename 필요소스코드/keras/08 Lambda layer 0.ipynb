{
 "cells": [
  {
   "cell_type": "markdown",
   "metadata": {},
   "source": [
    "학습할 파라메터없이 입력을 받아 함수를 사용해 출력해주는 Lambda layer 에 대해 공부해보겠습니다."
   ]
  },
  {
   "cell_type": "code",
   "execution_count": 1,
   "metadata": {},
   "outputs": [],
   "source": [
    "from tensorflow.keras import layers, models\n",
    "import tensorflow.keras.backend as K\n",
    "import numpy as np\n",
    "\n",
    "x_test = np.array([[1,2,3], [4,5,6]])\n",
    "x = layers.Input(shape=(3,))"
   ]
  },
  {
   "cell_type": "markdown",
   "metadata": {},
   "source": [
    "모델 summary 를 보면 Lambda 층에는 학습할 파라메터가 없는것을 알 수 있습니다."
   ]
  },
  {
   "cell_type": "code",
   "execution_count": 2,
   "metadata": {},
   "outputs": [
    {
     "name": "stdout",
     "output_type": "stream",
     "text": [
      "Model: \"model\"\n",
      "_________________________________________________________________\n",
      "Layer (type)                 Output Shape              Param #   \n",
      "=================================================================\n",
      "input_1 (InputLayer)         [(None, 3)]               0         \n",
      "_________________________________________________________________\n",
      "lambda (Lambda)              (None, 3)                 0         \n",
      "=================================================================\n",
      "Total params: 0\n",
      "Trainable params: 0\n",
      "Non-trainable params: 0\n",
      "_________________________________________________________________\n",
      "x_test\n",
      "[[1 2 3]\n",
      " [4 5 6]]\n",
      "y_pred\n",
      "[[ 2.  4.  6.]\n",
      " [ 8. 10. 12.]]\n"
     ]
    }
   ],
   "source": [
    "def func(x):\n",
    "    return x * 2\n",
    "\n",
    "y = layers.Lambda(func)(x)\n",
    "model = models.Model(x, y)\n",
    "model.summary()\n",
    "y_pred = model.predict(x_test)\n",
    "print('x_test'); print(x_test)\n",
    "print('y_pred'); print(y_pred)"
   ]
  },
  {
   "cell_type": "markdown",
   "metadata": {},
   "source": [
    "간단한 한줄함수는 아래와 같이 lambda 함수를 넣어줄 수 있습니다."
   ]
  },
  {
   "cell_type": "code",
   "execution_count": 3,
   "metadata": {
    "scrolled": true
   },
   "outputs": [
    {
     "name": "stdout",
     "output_type": "stream",
     "text": [
      "Model: \"model_1\"\n",
      "_________________________________________________________________\n",
      "Layer (type)                 Output Shape              Param #   \n",
      "=================================================================\n",
      "input_1 (InputLayer)         [(None, 3)]               0         \n",
      "_________________________________________________________________\n",
      "lambda_1 (Lambda)            (None, 3)                 0         \n",
      "=================================================================\n",
      "Total params: 0\n",
      "Trainable params: 0\n",
      "Non-trainable params: 0\n",
      "_________________________________________________________________\n",
      "x_test\n",
      "[[1 2 3]\n",
      " [4 5 6]]\n",
      "y_pred\n",
      "[[ 1.  4.  9.]\n",
      " [16. 25. 36.]]\n"
     ]
    }
   ],
   "source": [
    "y = layers.Lambda(lambda x: x**2)(x)\n",
    "model = models.Model(x, y)\n",
    "model.summary()\n",
    "y_pred = model.predict(x_test)\n",
    "print('x_test'); print(x_test)\n",
    "print('y_pred'); print(y_pred)"
   ]
  },
  {
   "cell_type": "markdown",
   "metadata": {},
   "source": [
    "아래와 같이 람다 레이어 안에서 K.sum 같은 keras.backend 함수를 사용할 수도 있습니다."
   ]
  },
  {
   "cell_type": "code",
   "execution_count": 4,
   "metadata": {
    "scrolled": false
   },
   "outputs": [
    {
     "name": "stdout",
     "output_type": "stream",
     "text": [
      "Model: \"model_2\"\n",
      "_________________________________________________________________\n",
      "Layer (type)                 Output Shape              Param #   \n",
      "=================================================================\n",
      "input_1 (InputLayer)         [(None, 3)]               0         \n",
      "_________________________________________________________________\n",
      "lambda_2 (Lambda)            (None, 1)                 0         \n",
      "=================================================================\n",
      "Total params: 0\n",
      "Trainable params: 0\n",
      "Non-trainable params: 0\n",
      "_________________________________________________________________\n",
      "x_test\n",
      "[[1 2 3]\n",
      " [4 5 6]]\n",
      "y_pred\n",
      "[[ 6.]\n",
      " [15.]]\n"
     ]
    }
   ],
   "source": [
    "def func(x):\n",
    "    # axis 0 is the batch dimension\n",
    "    return K.sum(x, axis=1, keepdims=True)\n",
    "\n",
    "y = layers.Lambda(func)(x)\n",
    "model = models.Model(x, y)\n",
    "model.summary()\n",
    "y_pred = model.predict(x_test)\n",
    "print('x_test'); print(x_test)\n",
    "print('y_pred'); print(y_pred)"
   ]
  },
  {
   "cell_type": "markdown",
   "metadata": {},
   "source": [
    "조건에 따라 다르게 계산하려면 Python 의 조건문 대신 backend.switch 함수를 사용합니다."
   ]
  },
  {
   "cell_type": "code",
   "execution_count": 5,
   "metadata": {
    "scrolled": false
   },
   "outputs": [
    {
     "name": "stdout",
     "output_type": "stream",
     "text": [
      "Model: \"model_3\"\n",
      "_________________________________________________________________\n",
      "Layer (type)                 Output Shape              Param #   \n",
      "=================================================================\n",
      "input_1 (InputLayer)         [(None, 3)]               0         \n",
      "_________________________________________________________________\n",
      "lambda_3 (Lambda)            (None, 3)                 0         \n",
      "=================================================================\n",
      "Total params: 0\n",
      "Trainable params: 0\n",
      "Non-trainable params: 0\n",
      "_________________________________________________________________\n",
      "x_test\n",
      "[[1 2 3]\n",
      " [4 5 6]]\n",
      "y_pred\n",
      "[[1. 2. 3.]\n",
      " [4. 4. 4.]]\n"
     ]
    }
   ],
   "source": [
    "#y = layers.Lambda(lambda x: 4 if x>4 else x)(x) does not work\n",
    "y = layers.Lambda(lambda x: K.switch(x>4, 4*K.ones_like(x), x))(x)\n",
    "model = models.Model(x, y)\n",
    "model.summary()\n",
    "y_pred = model.predict(x_test)\n",
    "print('x_test'); print(x_test)\n",
    "print('y_pred'); print(y_pred)"
   ]
  },
  {
   "cell_type": "markdown",
   "metadata": {},
   "source": [
    "아래와 같이 리스트 형식으로 여러개의 텐서를 출력할 수 있습니다."
   ]
  },
  {
   "cell_type": "code",
   "execution_count": 6,
   "metadata": {
    "scrolled": true
   },
   "outputs": [
    {
     "name": "stdout",
     "output_type": "stream",
     "text": [
      "Model: \"model_4\"\n",
      "_________________________________________________________________\n",
      "Layer (type)                 Output Shape              Param #   \n",
      "=================================================================\n",
      "input_1 (InputLayer)         [(None, 3)]               0         \n",
      "_________________________________________________________________\n",
      "lambda_4 (Lambda)            [(None, 3), (None, 3)]    0         \n",
      "=================================================================\n",
      "Total params: 0\n",
      "Trainable params: 0\n",
      "Non-trainable params: 0\n",
      "_________________________________________________________________\n",
      "x_test\n",
      "[[1 2 3]\n",
      " [4 5 6]]\n",
      "y_pred_A\n",
      "[[0.5 1.  1.5]\n",
      " [2.  2.5 3. ]]\n",
      "y_pred_B\n",
      "[[ 2.  4.  6.]\n",
      " [ 8. 10. 12.]]\n"
     ]
    }
   ],
   "source": [
    "yA, yB = layers.Lambda(lambda x: [x/2, x*2])(x)\n",
    "model = models.Model(x, [yA, yB])\n",
    "model.summary()\n",
    "y_pred_A, y_pred_B = model.predict(x_test)\n",
    "print('x_test'); print(x_test)\n",
    "print('y_pred_A'); print(y_pred_A)\n",
    "print('y_pred_B'); print(y_pred_B)"
   ]
  },
  {
   "cell_type": "markdown",
   "metadata": {},
   "source": [
    "아래와 같이 입력 텐서를 여러 텐서로 나누어 출력할 수 있습니다."
   ]
  },
  {
   "cell_type": "code",
   "execution_count": 7,
   "metadata": {},
   "outputs": [
    {
     "name": "stdout",
     "output_type": "stream",
     "text": [
      "Model: \"model_5\"\n",
      "_________________________________________________________________\n",
      "Layer (type)                 Output Shape              Param #   \n",
      "=================================================================\n",
      "input_1 (InputLayer)         [(None, 3)]               0         \n",
      "_________________________________________________________________\n",
      "lambda_5 (Lambda)            [(None, 2), (None, 1)]    0         \n",
      "=================================================================\n",
      "Total params: 0\n",
      "Trainable params: 0\n",
      "Non-trainable params: 0\n",
      "_________________________________________________________________\n",
      "x_test\n",
      "[[1 2 3]\n",
      " [4 5 6]]\n",
      "y_pred_A\n",
      "[[1. 2.]\n",
      " [4. 5.]]\n",
      "y_pred_B\n",
      "[[3.]\n",
      " [6.]]\n"
     ]
    }
   ],
   "source": [
    "yA, yB = layers.Lambda(lambda x: [x[:,0:2], x[:,2:]])(x)\n",
    "model = models.Model(x, [yA, yB])\n",
    "model.summary()\n",
    "y_pred_A, y_pred_B = model.predict(x_test)\n",
    "print('x_test'); print(x_test)\n",
    "print('y_pred_A'); print(y_pred_A)\n",
    "print('y_pred_B'); print(y_pred_B)"
   ]
  }
 ],
 "metadata": {
  "kernelspec": {
   "display_name": "Python 3",
   "language": "python",
   "name": "python3"
  },
  "language_info": {
   "codemirror_mode": {
    "name": "ipython",
    "version": 3
   },
   "file_extension": ".py",
   "mimetype": "text/x-python",
   "name": "python",
   "nbconvert_exporter": "python",
   "pygments_lexer": "ipython3",
   "version": "3.7.3"
  }
 },
 "nbformat": 4,
 "nbformat_minor": 2
}
