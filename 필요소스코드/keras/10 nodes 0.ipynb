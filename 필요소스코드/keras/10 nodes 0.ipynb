{
 "cells": [
  {
   "cell_type": "markdown",
   "metadata": {},
   "source": [
    "functional API 를 사용하여 레이어들을 연결할때 어떠한 일이 일어나는지 알아봅시다."
   ]
  },
  {
   "cell_type": "code",
   "execution_count": 1,
   "metadata": {},
   "outputs": [
    {
     "name": "stdout",
     "output_type": "stream",
     "text": [
      "h._inbound_nodes\n",
      " []\n",
      "h._outbound_nodes\n",
      " []\n"
     ]
    }
   ],
   "source": [
    "from tensorflow.keras import layers, models\n",
    "\n",
    "x = layers.Input((1,), name='x')\n",
    "y = layers.Input((1,), name='y')\n",
    "h = layers.Dense(1, name='h')\n",
    "a = layers.Dense(1, name='a')\n",
    "b = layers.Dense(1, name='b')\n",
    "\n",
    "print('h._inbound_nodes\\n', h._inbound_nodes)\n",
    "print('h._outbound_nodes\\n', h._outbound_nodes)"
   ]
  },
  {
   "cell_type": "code",
   "execution_count": 2,
   "metadata": {},
   "outputs": [],
   "source": [
    "hx = h(x)"
   ]
  },
  {
   "cell_type": "markdown",
   "metadata": {},
   "source": [
    "노드는 입력 텐서와 출력 텐서 사이의 연결을 의미합니다. 위와 같이 x 와 h 를 연결하면 노드가 생성됩니다. 노드에는 입력 텐서와 출력 텐서가 있습니다. 시각적으로 상상할 때 inbound_node 를 레이어 안에 그리고 output tensor 를 레이어 밖에 그릴 수있습니다. 혹은 inbound_node 를 레이어 밖에 그리고 output_tensor 를 레이어 안에 그릴 수도 있습니다."
   ]
  },
  {
   "cell_type": "code",
   "execution_count": 3,
   "metadata": {
    "scrolled": true
   },
   "outputs": [
    {
     "name": "stdout",
     "output_type": "stream",
     "text": [
      "h._inbound_nodes\n",
      " [<tensorflow.python.keras.engine.node.Node object at 0x00000263C0C50E10>] \n",
      "\n",
      "h._inbound_nodes[0].input_tensors\n",
      " Tensor(\"x:0\", shape=(None, 1), dtype=float32) \n",
      "\n",
      "h._inbound_nodes[0].output_tensors\n",
      " Tensor(\"h/Identity:0\", shape=(None, 1), dtype=float32)\n"
     ]
    }
   ],
   "source": [
    "print('h._inbound_nodes\\n', h._inbound_nodes, '\\n')\n",
    "print('h._inbound_nodes[0].input_tensors\\n', h._inbound_nodes[0].input_tensors, '\\n')\n",
    "print('h._inbound_nodes[0].output_tensors\\n', h._inbound_nodes[0].output_tensors)"
   ]
  },
  {
   "cell_type": "code",
   "execution_count": 4,
   "metadata": {},
   "outputs": [],
   "source": [
    "ahx = a(hx)"
   ]
  },
  {
   "cell_type": "markdown",
   "metadata": {},
   "source": [
    "h 에서 나가는 노드와 a 에 들어오는 노드가 같은것을 확인할 수 있습니다."
   ]
  },
  {
   "cell_type": "code",
   "execution_count": 5,
   "metadata": {
    "scrolled": true
   },
   "outputs": [
    {
     "name": "stdout",
     "output_type": "stream",
     "text": [
      "h._outbound_nodes\n",
      " [<tensorflow.python.keras.engine.node.Node object at 0x00000263D53C6518>] \n",
      "\n",
      "a._inbound_nodes\n",
      " [<tensorflow.python.keras.engine.node.Node object at 0x00000263D53C6518>] \n",
      "\n",
      "h._outbound_nodes[0].input_tensors,\n",
      " Tensor(\"h/Identity:0\", shape=(None, 1), dtype=float32) \n",
      "\n",
      "h._outbound_nodes[0].output_tensors,\n",
      " Tensor(\"a/Identity:0\", shape=(None, 1), dtype=float32) \n",
      "\n",
      "a._inbound_nodes[0].input_tensors,\n",
      " Tensor(\"h/Identity:0\", shape=(None, 1), dtype=float32) \n",
      "\n",
      "a._inbound_nodes[0].output_tensors,\n",
      " Tensor(\"a/Identity:0\", shape=(None, 1), dtype=float32)\n"
     ]
    }
   ],
   "source": [
    "print('h._outbound_nodes\\n', h._outbound_nodes, '\\n')\n",
    "print('a._inbound_nodes\\n', a._inbound_nodes, '\\n')\n",
    "print('h._outbound_nodes[0].input_tensors,\\n', h._outbound_nodes[0].input_tensors, '\\n')\n",
    "print('h._outbound_nodes[0].output_tensors,\\n', h._outbound_nodes[0].output_tensors, '\\n')\n",
    "print('a._inbound_nodes[0].input_tensors,\\n', a._inbound_nodes[0].input_tensors, '\\n')\n",
    "print('a._inbound_nodes[0].output_tensors,\\n', a._inbound_nodes[0].output_tensors)"
   ]
  },
  {
   "cell_type": "code",
   "execution_count": 6,
   "metadata": {},
   "outputs": [],
   "source": [
    "bhx= b(hx)"
   ]
  },
  {
   "cell_type": "code",
   "execution_count": 7,
   "metadata": {},
   "outputs": [
    {
     "name": "stdout",
     "output_type": "stream",
     "text": [
      "h._outbound_nodes\n",
      " [<tensorflow.python.keras.engine.node.Node object at 0x00000263D53C6518>, <tensorflow.python.keras.engine.node.Node object at 0x00000263D5229B70>] \n",
      "\n",
      "b._inbound_nodes\n",
      " [<tensorflow.python.keras.engine.node.Node object at 0x00000263D5229B70>] \n",
      "\n",
      "b._inbound_nodes[0].input_tensors,\n",
      " Tensor(\"h/Identity:0\", shape=(None, 1), dtype=float32) \n",
      "\n",
      "b._inbound_nodes[0].output_tensors,\n",
      " Tensor(\"b/Identity:0\", shape=(None, 1), dtype=float32)\n"
     ]
    }
   ],
   "source": [
    "print('h._outbound_nodes\\n', h._outbound_nodes, '\\n')\n",
    "print('b._inbound_nodes\\n', b._inbound_nodes, '\\n')\n",
    "print('b._inbound_nodes[0].input_tensors,\\n', b._inbound_nodes[0].input_tensors, '\\n')\n",
    "print('b._inbound_nodes[0].output_tensors,\\n', b._inbound_nodes[0].output_tensors)"
   ]
  },
  {
   "cell_type": "code",
   "execution_count": 8,
   "metadata": {},
   "outputs": [],
   "source": [
    "hy = h(y)"
   ]
  },
  {
   "cell_type": "code",
   "execution_count": 9,
   "metadata": {},
   "outputs": [
    {
     "name": "stdout",
     "output_type": "stream",
     "text": [
      "h._inbound_nodes\n",
      " [<tensorflow.python.keras.engine.node.Node object at 0x00000263C0C50E10>, <tensorflow.python.keras.engine.node.Node object at 0x00000263D53DD780>]\n"
     ]
    }
   ],
   "source": [
    "print('h._inbound_nodes\\n', h._inbound_nodes)"
   ]
  },
  {
   "cell_type": "code",
   "execution_count": 10,
   "metadata": {},
   "outputs": [],
   "source": [
    "ahy = a(hy)"
   ]
  },
  {
   "cell_type": "code",
   "execution_count": 11,
   "metadata": {
    "scrolled": true
   },
   "outputs": [
    {
     "name": "stdout",
     "output_type": "stream",
     "text": [
      "h._outbound_nodes\n",
      " [<tensorflow.python.keras.engine.node.Node object at 0x00000263D53C6518>, <tensorflow.python.keras.engine.node.Node object at 0x00000263D5229B70>, <tensorflow.python.keras.engine.node.Node object at 0x00000263D53E7128>] \n",
      "\n",
      "a._inbound_nodes\n",
      " [<tensorflow.python.keras.engine.node.Node object at 0x00000263D53C6518>, <tensorflow.python.keras.engine.node.Node object at 0x00000263D53E7128>]\n"
     ]
    }
   ],
   "source": [
    "print('h._outbound_nodes\\n', h._outbound_nodes, '\\n')\n",
    "print('a._inbound_nodes\\n', a._inbound_nodes)"
   ]
  },
  {
   "cell_type": "code",
   "execution_count": 12,
   "metadata": {},
   "outputs": [],
   "source": [
    "bhy = b(hy)"
   ]
  },
  {
   "cell_type": "code",
   "execution_count": 13,
   "metadata": {},
   "outputs": [
    {
     "name": "stdout",
     "output_type": "stream",
     "text": [
      "h._outbound_nodes\n",
      " [<tensorflow.python.keras.engine.node.Node object at 0x00000263D53C6518>, <tensorflow.python.keras.engine.node.Node object at 0x00000263D5229B70>, <tensorflow.python.keras.engine.node.Node object at 0x00000263D53E7128>, <tensorflow.python.keras.engine.node.Node object at 0x00000263D53E79E8>] \n",
      "\n",
      "b._inbound_nodes\n",
      " [<tensorflow.python.keras.engine.node.Node object at 0x00000263D5229B70>, <tensorflow.python.keras.engine.node.Node object at 0x00000263D53E79E8>]\n"
     ]
    }
   ],
   "source": [
    "print('h._outbound_nodes\\n', h._outbound_nodes, '\\n')\n",
    "print('b._inbound_nodes\\n', b._inbound_nodes)"
   ]
  },
  {
   "cell_type": "markdown",
   "metadata": {},
   "source": [
    "모델 summary 의 Connected to 는 layer name [inbound_node index][output_tensor index]"
   ]
  },
  {
   "cell_type": "code",
   "execution_count": 14,
   "metadata": {},
   "outputs": [
    {
     "name": "stdout",
     "output_type": "stream",
     "text": [
      "Model: \"model\"\n",
      "__________________________________________________________________________________________________\n",
      "Layer (type)                    Output Shape         Param #     Connected to                     \n",
      "==================================================================================================\n",
      "x (InputLayer)                  [(None, 1)]          0                                            \n",
      "__________________________________________________________________________________________________\n",
      "y (InputLayer)                  [(None, 1)]          0                                            \n",
      "__________________________________________________________________________________________________\n",
      "h (Dense)                       (None, 1)            2           x[0][0]                          \n",
      "                                                                 y[0][0]                          \n",
      "__________________________________________________________________________________________________\n",
      "a (Dense)                       (None, 1)            2           h[0][0]                          \n",
      "                                                                 h[1][0]                          \n",
      "__________________________________________________________________________________________________\n",
      "b (Dense)                       (None, 1)            2           h[0][0]                          \n",
      "                                                                 h[1][0]                          \n",
      "==================================================================================================\n",
      "Total params: 6\n",
      "Trainable params: 6\n",
      "Non-trainable params: 0\n",
      "__________________________________________________________________________________________________\n"
     ]
    }
   ],
   "source": [
    "model = models.Model([x, y], [ahx, bhx, ahy, bhy])\n",
    "model.summary()"
   ]
  }
 ],
 "metadata": {
  "kernelspec": {
   "display_name": "Python 3",
   "language": "python",
   "name": "python3"
  },
  "language_info": {
   "codemirror_mode": {
    "name": "ipython",
    "version": 3
   },
   "file_extension": ".py",
   "mimetype": "text/x-python",
   "name": "python",
   "nbconvert_exporter": "python",
   "pygments_lexer": "ipython3",
   "version": "3.7.3"
  }
 },
 "nbformat": 4,
 "nbformat_minor": 2
}
