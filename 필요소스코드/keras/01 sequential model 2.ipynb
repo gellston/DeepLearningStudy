{
 "cells": [
  {
   "cell_type": "markdown",
   "metadata": {},
   "source": [
    "입력->중간층->중간층->출력 노드의 수가 2 -> 3 -> 2 -> 1 인 네트워크를 만듭니다."
   ]
  },
  {
   "cell_type": "code",
   "execution_count": 1,
   "metadata": {},
   "outputs": [
    {
     "name": "stdout",
     "output_type": "stream",
     "text": [
      "x_train =\n",
      "[[0 1]\n",
      " [2 3]\n",
      " [4 5]]\n",
      "y_train =\n",
      "[[1]\n",
      " [5]\n",
      " [9]]\n",
      "x_test =\n",
      "[[6 7]\n",
      " [8 9]]\n",
      "y_test =\n",
      "[[13]\n",
      " [17]]\n",
      "Model: \"sequential\"\n",
      "_________________________________________________________________\n",
      "Layer (type)                 Output Shape              Param #   \n",
      "=================================================================\n",
      "dense (Dense)                (None, 3)                 9         \n",
      "_________________________________________________________________\n",
      "dense_1 (Dense)              (None, 2)                 8         \n",
      "_________________________________________________________________\n",
      "dense_2 (Dense)              (None, 1)                 3         \n",
      "=================================================================\n",
      "Total params: 20\n",
      "Trainable params: 20\n",
      "Non-trainable params: 0\n",
      "_________________________________________________________________\n",
      "y_predict\n",
      "[[13.000183]\n",
      " [17.000238]]\n",
      "y_test\n",
      "[[13]\n",
      " [17]]\n"
     ]
    }
   ],
   "source": [
    "# 2 -> 3 -> 2 -> 1\n",
    "\n",
    "import tensorflow.keras as keras\n",
    "import numpy as np\n",
    "\n",
    "x_train = np.array( [[0,1], [2,3], [4,5]] )\n",
    "y_train = np.array( [ [x.sum()] for x in x_train ] )\n",
    "print(\"x_train =\"); print(x_train)\n",
    "print(\"y_train =\"); print(y_train)\n",
    "x_test = np.array( [[6,7], [8,9]] )\n",
    "y_test = np.array( [ [x.sum()] for x in x_test ] )\n",
    "print(\"x_test =\"); print(x_test)\n",
    "print(\"y_test =\"); print(y_test)\n",
    "\n",
    "model = keras.models.Sequential()\n",
    "model.add( keras.layers.Dense( 3, input_dim=2 ) )\n",
    "model.add( keras.layers.Dense( 2 ) )\n",
    "model.add( keras.layers.Dense( 1 ) )\n",
    "\n",
    "model.summary()\n",
    "\n",
    "model.compile( optimizer = 'SGD', loss = 'mse' )\n",
    "model.fit( x_train, y_train, batch_size = 3, epochs = 1000, verbose = 0 )\n",
    "\n",
    "y_predict = model.predict( x_test )\n",
    "print( 'y_predict' ); print( y_predict )\n",
    "print( 'y_test' ); print( y_test )"
   ]
  }
 ],
 "metadata": {
  "kernelspec": {
   "display_name": "Python 3",
   "language": "python",
   "name": "python3"
  },
  "language_info": {
   "codemirror_mode": {
    "name": "ipython",
    "version": 3
   },
   "file_extension": ".py",
   "mimetype": "text/x-python",
   "name": "python",
   "nbconvert_exporter": "python",
   "pygments_lexer": "ipython3",
   "version": "3.7.3"
  }
 },
 "nbformat": 4,
 "nbformat_minor": 2
}
